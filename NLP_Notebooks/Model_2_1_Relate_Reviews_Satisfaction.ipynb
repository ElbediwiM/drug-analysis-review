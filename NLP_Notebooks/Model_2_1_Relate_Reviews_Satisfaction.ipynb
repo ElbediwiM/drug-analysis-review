{
 "cells": [
  {
   "cell_type": "markdown",
   "id": "f2add3d7",
   "metadata": {},
   "source": []
  },
  {
   "cell_type": "markdown",
   "id": "41940d27",
   "metadata": {},
   "source": [
    "# Model 2.1 - Relate Review to Satisfaction"
   ]
  },
  {
   "cell_type": "markdown",
   "id": "a9003eaa",
   "metadata": {},
   "source": [
    "Goal 2.1 – Predict Satisfaction from Review Text\n",
    "\n",
    "In this version, we build a deep learning classification model to predict patient satisfaction ratings (1–5) based on free-text drug reviews from the WebMD dataset.\n",
    "\n",
    "Unlike transformer-based models, this approach uses custom-trained Word2Vec embeddings to represent patient reviews, followed by an LSTM neural network to capture the sequential structure of the text. This technique enables us to model semantic meaning and sentiment flow over time within reviews.\n",
    "\n",
    "Key steps include:\n",
    "\n",
    "- Preprocessing reviews (lowercasing, lemmatization, stopword removal, special character stripping)\n",
    "- Training a Word2Vec model on the cleaned corpus\n",
    "- Transforming reviews into padded sequences of embeddings\n",
    "- Training an LSTM classifier to predict satisfaction levels\n",
    "\n",
    "This model is applied across all drugs in the dataset, providing a scalable and interpretable alternative to large transformer-based methods, while still capturing meaningful patterns in patient language."
   ]
  },
  {
   "cell_type": "markdown",
   "id": "f8a0f57c",
   "metadata": {},
   "source": [
    "# Load and Preprocess the Data"
   ]
  },
  {
   "cell_type": "markdown",
   "id": "a32ac5a5",
   "metadata": {},
   "source": [
    "## Loading CVS"
   ]
  },
  {
   "cell_type": "code",
   "execution_count": null,
   "id": "f57950fe",
   "metadata": {},
   "outputs": [
    {
     "data": {
      "text/html": [
       "<div>\n",
       "<style scoped>\n",
       "    .dataframe tbody tr th:only-of-type {\n",
       "        vertical-align: middle;\n",
       "    }\n",
       "\n",
       "    .dataframe tbody tr th {\n",
       "        vertical-align: top;\n",
       "    }\n",
       "\n",
       "    .dataframe thead th {\n",
       "        text-align: right;\n",
       "    }\n",
       "</style>\n",
       "<table border=\"1\" class=\"dataframe\">\n",
       "  <thead>\n",
       "    <tr style=\"text-align: right;\">\n",
       "      <th></th>\n",
       "      <th>Drug</th>\n",
       "      <th>Reviews</th>\n",
       "      <th>Satisfaction</th>\n",
       "    </tr>\n",
       "  </thead>\n",
       "  <tbody>\n",
       "    <tr>\n",
       "      <th>0</th>\n",
       "      <td>25dph-7.5peh</td>\n",
       "      <td>I'm a retired physician and of all the meds I ...</td>\n",
       "      <td>5</td>\n",
       "    </tr>\n",
       "    <tr>\n",
       "      <th>1</th>\n",
       "      <td>25dph-7.5peh</td>\n",
       "      <td>cleared me right up even with my throat hurtin...</td>\n",
       "      <td>5</td>\n",
       "    </tr>\n",
       "    <tr>\n",
       "      <th>2</th>\n",
       "      <td>warfarin (bulk) 100 % powder</td>\n",
       "      <td>why did my PTINR go from a normal of 2.5 to ov...</td>\n",
       "      <td>3</td>\n",
       "    </tr>\n",
       "    <tr>\n",
       "      <th>3</th>\n",
       "      <td>warfarin (bulk) 100 % powder</td>\n",
       "      <td>FALLING AND DON'T REALISE IT</td>\n",
       "      <td>1</td>\n",
       "    </tr>\n",
       "    <tr>\n",
       "      <th>4</th>\n",
       "      <td>warfarin (bulk) 100 % powder</td>\n",
       "      <td>My grandfather was prescribed this medication ...</td>\n",
       "      <td>1</td>\n",
       "    </tr>\n",
       "  </tbody>\n",
       "</table>\n",
       "</div>"
      ],
      "text/plain": [
       "                           Drug  \\\n",
       "0                  25dph-7.5peh   \n",
       "1                  25dph-7.5peh   \n",
       "2  warfarin (bulk) 100 % powder   \n",
       "3  warfarin (bulk) 100 % powder   \n",
       "4  warfarin (bulk) 100 % powder   \n",
       "\n",
       "                                             Reviews  Satisfaction  \n",
       "0  I'm a retired physician and of all the meds I ...             5  \n",
       "1  cleared me right up even with my throat hurtin...             5  \n",
       "2  why did my PTINR go from a normal of 2.5 to ov...             3  \n",
       "3                       FALLING AND DON'T REALISE IT             1  \n",
       "4  My grandfather was prescribed this medication ...             1  "
      ]
     },
     "execution_count": 10,
     "metadata": {},
     "output_type": "execute_result"
    }
   ],
   "source": [
    "import pandas as pd\n",
    "\n",
    "# Load CSV using your path\n",
    "df = pd.read_csv('/Users/homecomputer/code/ElbediwiM/drug-analysis-review/Raw_Data/webmd.csv')\n",
    "\n",
    "# Clean and prepare relevant columns\n",
    "df = df[['Drug', 'Reviews', 'Satisfaction']].dropna()\n",
    "df['Satisfaction'] = df['Satisfaction'].astype(int)\n",
    "\n",
    "df.head()\n"
   ]
  }
 ],
 "metadata": {
  "kernelspec": {
   "display_name": "project_name",
   "language": "python",
   "name": "python3"
  },
  "language_info": {
   "codemirror_mode": {
    "name": "ipython",
    "version": 3
   },
   "file_extension": ".py",
   "mimetype": "text/x-python",
   "name": "python",
   "nbconvert_exporter": "python",
   "pygments_lexer": "ipython3",
   "version": "3.10.6"
  }
 },
 "nbformat": 4,
 "nbformat_minor": 5
}
