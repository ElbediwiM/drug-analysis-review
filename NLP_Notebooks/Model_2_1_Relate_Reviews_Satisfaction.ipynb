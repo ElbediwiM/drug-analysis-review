{
 "cells": [
  {
   "cell_type": "markdown",
   "id": "f2add3d7",
   "metadata": {},
   "source": []
  },
  {
   "cell_type": "markdown",
   "id": "41940d27",
   "metadata": {},
   "source": [
    "# Model 2.1 - Relate Review to Satisfaction"
   ]
  },
  {
   "cell_type": "markdown",
   "id": "a9003eaa",
   "metadata": {},
   "source": [
    "Goal 2.1 – Predict Satisfaction from Review Text\n",
    "\n",
    "- Build a classification model to predict patient satisfaction ratings (1–5) based on free-text drug reviews from the WebMD dataset.\n",
    "- Use a Hugging Face Transformer model (DistilBERT) fine-tuned locally for this multi-class classification task.\n",
    "- Apply the model per drug, enabling drug-specific analysis of patient sentiment and satisfaction."
   ]
  },
  {
   "cell_type": "markdown",
   "id": "f8a0f57c",
   "metadata": {},
   "source": [
    "## Setup"
   ]
  },
  {
   "cell_type": "code",
   "execution_count": 1,
   "id": "3929d982",
   "metadata": {},
   "outputs": [
    {
     "name": "stdout",
     "output_type": "stream",
     "text": [
      "Requirement already satisfied: transformers in /Users/homecomputer/.pyenv/versions/3.10.6/envs/project_name/lib/python3.10/site-packages (4.54.0)\n",
      "Requirement already satisfied: datasets in /Users/homecomputer/.pyenv/versions/3.10.6/envs/project_name/lib/python3.10/site-packages (4.0.0)\n",
      "Requirement already satisfied: scikit-learn in /Users/homecomputer/.pyenv/versions/3.10.6/envs/project_name/lib/python3.10/site-packages (1.7.1)\n",
      "Requirement already satisfied: pandas in /Users/homecomputer/.pyenv/versions/3.10.6/envs/project_name/lib/python3.10/site-packages (2.3.1)\n",
      "Requirement already satisfied: filelock in /Users/homecomputer/.pyenv/versions/3.10.6/envs/project_name/lib/python3.10/site-packages (from transformers) (3.18.0)\n",
      "Requirement already satisfied: huggingface-hub<1.0,>=0.34.0 in /Users/homecomputer/.pyenv/versions/3.10.6/envs/project_name/lib/python3.10/site-packages (from transformers) (0.34.2)\n",
      "Requirement already satisfied: numpy>=1.17 in /Users/homecomputer/.pyenv/versions/3.10.6/envs/project_name/lib/python3.10/site-packages (from transformers) (1.24.4)\n",
      "Requirement already satisfied: packaging>=20.0 in /Users/homecomputer/.pyenv/versions/3.10.6/envs/project_name/lib/python3.10/site-packages (from transformers) (25.0)\n",
      "Requirement already satisfied: pyyaml>=5.1 in /Users/homecomputer/.pyenv/versions/3.10.6/envs/project_name/lib/python3.10/site-packages (from transformers) (6.0.2)\n",
      "Requirement already satisfied: regex!=2019.12.17 in /Users/homecomputer/.pyenv/versions/3.10.6/envs/project_name/lib/python3.10/site-packages (from transformers) (2024.11.6)\n",
      "Requirement already satisfied: requests in /Users/homecomputer/.pyenv/versions/3.10.6/envs/project_name/lib/python3.10/site-packages (from transformers) (2.32.4)\n",
      "Requirement already satisfied: tokenizers<0.22,>=0.21 in /Users/homecomputer/.pyenv/versions/3.10.6/envs/project_name/lib/python3.10/site-packages (from transformers) (0.21.2)\n",
      "Requirement already satisfied: safetensors>=0.4.3 in /Users/homecomputer/.pyenv/versions/3.10.6/envs/project_name/lib/python3.10/site-packages (from transformers) (0.5.3)\n",
      "Requirement already satisfied: tqdm>=4.27 in /Users/homecomputer/.pyenv/versions/3.10.6/envs/project_name/lib/python3.10/site-packages (from transformers) (4.67.1)\n",
      "Requirement already satisfied: fsspec>=2023.5.0 in /Users/homecomputer/.pyenv/versions/3.10.6/envs/project_name/lib/python3.10/site-packages (from huggingface-hub<1.0,>=0.34.0->transformers) (2025.3.0)\n",
      "Requirement already satisfied: typing-extensions>=3.7.4.3 in /Users/homecomputer/.pyenv/versions/3.10.6/envs/project_name/lib/python3.10/site-packages (from huggingface-hub<1.0,>=0.34.0->transformers) (4.14.1)\n",
      "Requirement already satisfied: hf-xet<2.0.0,>=1.1.3 in /Users/homecomputer/.pyenv/versions/3.10.6/envs/project_name/lib/python3.10/site-packages (from huggingface-hub<1.0,>=0.34.0->transformers) (1.1.5)\n",
      "Requirement already satisfied: pyarrow>=15.0.0 in /Users/homecomputer/.pyenv/versions/3.10.6/envs/project_name/lib/python3.10/site-packages (from datasets) (21.0.0)\n",
      "Requirement already satisfied: dill<0.3.9,>=0.3.0 in /Users/homecomputer/.pyenv/versions/3.10.6/envs/project_name/lib/python3.10/site-packages (from datasets) (0.3.8)\n",
      "Requirement already satisfied: xxhash in /Users/homecomputer/.pyenv/versions/3.10.6/envs/project_name/lib/python3.10/site-packages (from datasets) (3.5.0)\n",
      "Requirement already satisfied: multiprocess<0.70.17 in /Users/homecomputer/.pyenv/versions/3.10.6/envs/project_name/lib/python3.10/site-packages (from datasets) (0.70.16)\n",
      "Requirement already satisfied: aiohttp!=4.0.0a0,!=4.0.0a1 in /Users/homecomputer/.pyenv/versions/3.10.6/envs/project_name/lib/python3.10/site-packages (from fsspec[http]<=2025.3.0,>=2023.1.0->datasets) (3.12.14)\n",
      "Requirement already satisfied: scipy>=1.8.0 in /Users/homecomputer/.pyenv/versions/3.10.6/envs/project_name/lib/python3.10/site-packages (from scikit-learn) (1.15.3)\n",
      "Requirement already satisfied: joblib>=1.2.0 in /Users/homecomputer/.pyenv/versions/3.10.6/envs/project_name/lib/python3.10/site-packages (from scikit-learn) (1.5.1)\n",
      "Requirement already satisfied: threadpoolctl>=3.1.0 in /Users/homecomputer/.pyenv/versions/3.10.6/envs/project_name/lib/python3.10/site-packages (from scikit-learn) (3.6.0)\n",
      "Requirement already satisfied: python-dateutil>=2.8.2 in /Users/homecomputer/.pyenv/versions/3.10.6/envs/project_name/lib/python3.10/site-packages (from pandas) (2.9.0.post0)\n",
      "Requirement already satisfied: pytz>=2020.1 in /Users/homecomputer/.pyenv/versions/3.10.6/envs/project_name/lib/python3.10/site-packages (from pandas) (2025.2)\n",
      "Requirement already satisfied: tzdata>=2022.7 in /Users/homecomputer/.pyenv/versions/3.10.6/envs/project_name/lib/python3.10/site-packages (from pandas) (2025.2)\n",
      "Requirement already satisfied: aiohappyeyeballs>=2.5.0 in /Users/homecomputer/.pyenv/versions/3.10.6/envs/project_name/lib/python3.10/site-packages (from aiohttp!=4.0.0a0,!=4.0.0a1->fsspec[http]<=2025.3.0,>=2023.1.0->datasets) (2.6.1)\n",
      "Requirement already satisfied: aiosignal>=1.4.0 in /Users/homecomputer/.pyenv/versions/3.10.6/envs/project_name/lib/python3.10/site-packages (from aiohttp!=4.0.0a0,!=4.0.0a1->fsspec[http]<=2025.3.0,>=2023.1.0->datasets) (1.4.0)\n",
      "Requirement already satisfied: async-timeout<6.0,>=4.0 in /Users/homecomputer/.pyenv/versions/3.10.6/envs/project_name/lib/python3.10/site-packages (from aiohttp!=4.0.0a0,!=4.0.0a1->fsspec[http]<=2025.3.0,>=2023.1.0->datasets) (5.0.1)\n",
      "Requirement already satisfied: attrs>=17.3.0 in /Users/homecomputer/.pyenv/versions/3.10.6/envs/project_name/lib/python3.10/site-packages (from aiohttp!=4.0.0a0,!=4.0.0a1->fsspec[http]<=2025.3.0,>=2023.1.0->datasets) (25.3.0)\n",
      "Requirement already satisfied: frozenlist>=1.1.1 in /Users/homecomputer/.pyenv/versions/3.10.6/envs/project_name/lib/python3.10/site-packages (from aiohttp!=4.0.0a0,!=4.0.0a1->fsspec[http]<=2025.3.0,>=2023.1.0->datasets) (1.7.0)\n",
      "Requirement already satisfied: multidict<7.0,>=4.5 in /Users/homecomputer/.pyenv/versions/3.10.6/envs/project_name/lib/python3.10/site-packages (from aiohttp!=4.0.0a0,!=4.0.0a1->fsspec[http]<=2025.3.0,>=2023.1.0->datasets) (6.6.3)\n",
      "Requirement already satisfied: propcache>=0.2.0 in /Users/homecomputer/.pyenv/versions/3.10.6/envs/project_name/lib/python3.10/site-packages (from aiohttp!=4.0.0a0,!=4.0.0a1->fsspec[http]<=2025.3.0,>=2023.1.0->datasets) (0.3.2)\n",
      "Requirement already satisfied: yarl<2.0,>=1.17.0 in /Users/homecomputer/.pyenv/versions/3.10.6/envs/project_name/lib/python3.10/site-packages (from aiohttp!=4.0.0a0,!=4.0.0a1->fsspec[http]<=2025.3.0,>=2023.1.0->datasets) (1.20.1)\n",
      "Requirement already satisfied: idna>=2.0 in /Users/homecomputer/.pyenv/versions/3.10.6/envs/project_name/lib/python3.10/site-packages (from yarl<2.0,>=1.17.0->aiohttp!=4.0.0a0,!=4.0.0a1->fsspec[http]<=2025.3.0,>=2023.1.0->datasets) (3.10)\n",
      "Requirement already satisfied: six>=1.5 in /Users/homecomputer/.pyenv/versions/3.10.6/envs/project_name/lib/python3.10/site-packages (from python-dateutil>=2.8.2->pandas) (1.17.0)\n",
      "Requirement already satisfied: charset_normalizer<4,>=2 in /Users/homecomputer/.pyenv/versions/3.10.6/envs/project_name/lib/python3.10/site-packages (from requests->transformers) (3.4.2)\n",
      "Requirement already satisfied: urllib3<3,>=1.21.1 in /Users/homecomputer/.pyenv/versions/3.10.6/envs/project_name/lib/python3.10/site-packages (from requests->transformers) (2.5.0)\n",
      "Requirement already satisfied: certifi>=2017.4.17 in /Users/homecomputer/.pyenv/versions/3.10.6/envs/project_name/lib/python3.10/site-packages (from requests->transformers) (2025.7.14)\n",
      "Note: you may need to restart the kernel to use updated packages.\n"
     ]
    }
   ],
   "source": [
    "pip install transformers datasets scikit-learn pandas"
   ]
  },
  {
   "cell_type": "markdown",
   "id": "a32ac5a5",
   "metadata": {},
   "source": [
    "## Loading CVS"
   ]
  },
  {
   "cell_type": "code",
   "execution_count": 2,
   "id": "f57950fe",
   "metadata": {},
   "outputs": [
    {
     "data": {
      "text/html": [
       "<div>\n",
       "<style scoped>\n",
       "    .dataframe tbody tr th:only-of-type {\n",
       "        vertical-align: middle;\n",
       "    }\n",
       "\n",
       "    .dataframe tbody tr th {\n",
       "        vertical-align: top;\n",
       "    }\n",
       "\n",
       "    .dataframe thead th {\n",
       "        text-align: right;\n",
       "    }\n",
       "</style>\n",
       "<table border=\"1\" class=\"dataframe\">\n",
       "  <thead>\n",
       "    <tr style=\"text-align: right;\">\n",
       "      <th></th>\n",
       "      <th>Drug</th>\n",
       "      <th>Reviews</th>\n",
       "      <th>Satisfaction</th>\n",
       "    </tr>\n",
       "  </thead>\n",
       "  <tbody>\n",
       "    <tr>\n",
       "      <th>0</th>\n",
       "      <td>25dph-7.5peh</td>\n",
       "      <td>I'm a retired physician and of all the meds I ...</td>\n",
       "      <td>5</td>\n",
       "    </tr>\n",
       "    <tr>\n",
       "      <th>1</th>\n",
       "      <td>25dph-7.5peh</td>\n",
       "      <td>cleared me right up even with my throat hurtin...</td>\n",
       "      <td>5</td>\n",
       "    </tr>\n",
       "    <tr>\n",
       "      <th>2</th>\n",
       "      <td>warfarin (bulk) 100 % powder</td>\n",
       "      <td>why did my PTINR go from a normal of 2.5 to ov...</td>\n",
       "      <td>3</td>\n",
       "    </tr>\n",
       "    <tr>\n",
       "      <th>3</th>\n",
       "      <td>warfarin (bulk) 100 % powder</td>\n",
       "      <td>FALLING AND DON'T REALISE IT</td>\n",
       "      <td>1</td>\n",
       "    </tr>\n",
       "    <tr>\n",
       "      <th>4</th>\n",
       "      <td>warfarin (bulk) 100 % powder</td>\n",
       "      <td>My grandfather was prescribed this medication ...</td>\n",
       "      <td>1</td>\n",
       "    </tr>\n",
       "  </tbody>\n",
       "</table>\n",
       "</div>"
      ],
      "text/plain": [
       "                           Drug  \\\n",
       "0                  25dph-7.5peh   \n",
       "1                  25dph-7.5peh   \n",
       "2  warfarin (bulk) 100 % powder   \n",
       "3  warfarin (bulk) 100 % powder   \n",
       "4  warfarin (bulk) 100 % powder   \n",
       "\n",
       "                                             Reviews  Satisfaction  \n",
       "0  I'm a retired physician and of all the meds I ...             5  \n",
       "1  cleared me right up even with my throat hurtin...             5  \n",
       "2  why did my PTINR go from a normal of 2.5 to ov...             3  \n",
       "3                       FALLING AND DON'T REALISE IT             1  \n",
       "4  My grandfather was prescribed this medication ...             1  "
      ]
     },
     "execution_count": 2,
     "metadata": {},
     "output_type": "execute_result"
    }
   ],
   "source": [
    "import pandas as pd\n",
    "\n",
    "# Load CSV using your path\n",
    "df = pd.read_csv('/Users/homecomputer/code/ElbediwiM/drug-analysis-review/Raw_Data/webmd.csv')\n",
    "\n",
    "# Clean and prepare relevant columns\n",
    "df = df[['Drug', 'Reviews', 'Satisfaction']].dropna()\n",
    "df['Satisfaction'] = df['Satisfaction'].astype(int)\n",
    "\n",
    "df.head()\n"
   ]
  },
  {
   "cell_type": "markdown",
   "id": "b8a66cd1",
   "metadata": {},
   "source": [
    "## Train/Test Split"
   ]
  },
  {
   "cell_type": "code",
   "execution_count": 3,
   "id": "956db8ae",
   "metadata": {},
   "outputs": [],
   "source": [
    "from sklearn.model_selection import train_test_split\n",
    "\n",
    "train_texts, val_texts, train_labels, val_labels = train_test_split(\n",
    "    df['Reviews'].tolist(),\n",
    "    df['Satisfaction'].tolist(),\n",
    "    test_size=0.2,\n",
    "    random_state=42\n",
    ")"
   ]
  },
  {
   "cell_type": "markdown",
   "id": "c835396a",
   "metadata": {},
   "source": [
    "## Install PyTorch"
   ]
  },
  {
   "cell_type": "code",
   "execution_count": 4,
   "id": "f26ee948",
   "metadata": {},
   "outputs": [
    {
     "name": "stdout",
     "output_type": "stream",
     "text": [
      "Requirement already satisfied: torch in /Users/homecomputer/.pyenv/versions/3.10.6/envs/project_name/lib/python3.10/site-packages (2.2.2)\n",
      "Requirement already satisfied: torchvision in /Users/homecomputer/.pyenv/versions/3.10.6/envs/project_name/lib/python3.10/site-packages (0.17.2)\n",
      "Requirement already satisfied: filelock in /Users/homecomputer/.pyenv/versions/3.10.6/envs/project_name/lib/python3.10/site-packages (from torch) (3.18.0)\n",
      "Requirement already satisfied: typing-extensions>=4.8.0 in /Users/homecomputer/.pyenv/versions/3.10.6/envs/project_name/lib/python3.10/site-packages (from torch) (4.14.1)\n",
      "Requirement already satisfied: sympy in /Users/homecomputer/.pyenv/versions/3.10.6/envs/project_name/lib/python3.10/site-packages (from torch) (1.14.0)\n",
      "Requirement already satisfied: networkx in /Users/homecomputer/.pyenv/versions/3.10.6/envs/project_name/lib/python3.10/site-packages (from torch) (3.4.2)\n",
      "Requirement already satisfied: jinja2 in /Users/homecomputer/.pyenv/versions/3.10.6/envs/project_name/lib/python3.10/site-packages (from torch) (3.1.6)\n",
      "Requirement already satisfied: fsspec in /Users/homecomputer/.pyenv/versions/3.10.6/envs/project_name/lib/python3.10/site-packages (from torch) (2025.3.0)\n",
      "Requirement already satisfied: numpy in /Users/homecomputer/.pyenv/versions/3.10.6/envs/project_name/lib/python3.10/site-packages (from torchvision) (1.24.4)\n",
      "Requirement already satisfied: pillow!=8.3.*,>=5.3.0 in /Users/homecomputer/.pyenv/versions/3.10.6/envs/project_name/lib/python3.10/site-packages (from torchvision) (11.3.0)\n",
      "Requirement already satisfied: MarkupSafe>=2.0 in /Users/homecomputer/.pyenv/versions/3.10.6/envs/project_name/lib/python3.10/site-packages (from jinja2->torch) (3.0.2)\n",
      "Requirement already satisfied: mpmath<1.4,>=1.1.0 in /Users/homecomputer/.pyenv/versions/3.10.6/envs/project_name/lib/python3.10/site-packages (from sympy->torch) (1.3.0)\n",
      "Note: you may need to restart the kernel to use updated packages.\n"
     ]
    }
   ],
   "source": [
    "pip install torch torchvision"
   ]
  },
  {
   "cell_type": "markdown",
   "id": "84cf5df5",
   "metadata": {},
   "source": [
    "## Tokenize with HuggingFace DistilBertTokenizer"
   ]
  },
  {
   "cell_type": "code",
   "execution_count": 5,
   "id": "db4f51dc",
   "metadata": {},
   "outputs": [
    {
     "name": "stderr",
     "output_type": "stream",
     "text": [
      "/Users/homecomputer/.pyenv/versions/3.10.6/envs/project_name/lib/python3.10/site-packages/tqdm/auto.py:21: TqdmWarning: IProgress not found. Please update jupyter and ipywidgets. See https://ipywidgets.readthedocs.io/en/stable/user_install.html\n",
      "  from .autonotebook import tqdm as notebook_tqdm\n"
     ]
    }
   ],
   "source": [
    "from transformers import DistilBertTokenizer\n",
    "\n",
    "tokenizer = DistilBertTokenizer.from_pretrained('distilbert-base-uncased')\n",
    "\n",
    "# Efficient batched tokenization\n",
    "train_encodings = tokenizer.batch_encode_plus(\n",
    "    train_texts,\n",
    "    truncation=True,\n",
    "    padding=True,\n",
    "    max_length=512\n",
    ")\n",
    "\n",
    "val_encodings = tokenizer.batch_encode_plus(\n",
    "    val_texts,\n",
    "    truncation=True,\n",
    "    padding=True,\n",
    "    max_length=512\n",
    ")"
   ]
  },
  {
   "cell_type": "markdown",
   "id": "c8be3ba7",
   "metadata": {},
   "source": [
    "## Wrap Encodings into a PyTorch Dataset"
   ]
  },
  {
   "cell_type": "code",
   "execution_count": 6,
   "id": "195945a1",
   "metadata": {},
   "outputs": [],
   "source": [
    "import torch\n",
    "\n",
    "class ReviewDataset(torch.utils.data.Dataset):\n",
    "    def __init__(self, encodings, labels):\n",
    "        self.encodings = encodings\n",
    "        self.labels = labels\n",
    "\n",
    "    def __getitem__(self, idx):\n",
    "        return {\n",
    "            'input_ids': torch.tensor(self.encodings['input_ids'][idx]),\n",
    "            'attention_mask': torch.tensor(self.encodings['attention_mask'][idx]),\n",
    "            'labels': torch.tensor(self.labels[idx] - 1)  # shift Satisfaction from 1–5 → 0–4\n",
    "        }\n",
    "\n",
    "    def __len__(self):\n",
    "        return len(self.labels)\n",
    "\n",
    "# Create dataset objects\n",
    "train_dataset = ReviewDataset(train_encodings, train_labels)\n",
    "val_dataset = ReviewDataset(val_encodings, val_labels)\n"
   ]
  },
  {
   "cell_type": "code",
   "execution_count": 7,
   "id": "a1eefcf4",
   "metadata": {},
   "outputs": [
    {
     "name": "stdout",
     "output_type": "stream",
     "text": [
      "Found existing installation: numpy 1.24.4\n",
      "Uninstalling numpy-1.24.4:\n",
      "  Successfully uninstalled numpy-1.24.4\n",
      "Collecting numpy==1.24.4\n",
      "  Using cached numpy-1.24.4-cp310-cp310-macosx_10_9_x86_64.whl.metadata (5.6 kB)\n",
      "Using cached numpy-1.24.4-cp310-cp310-macosx_10_9_x86_64.whl (19.8 MB)\n",
      "Installing collected packages: numpy\n",
      "Successfully installed numpy-1.24.4\n"
     ]
    }
   ],
   "source": [
    "!pip uninstall numpy -y\n",
    "!pip install numpy==1.24.4"
   ]
  },
  {
   "cell_type": "markdown",
   "id": "599f66ea",
   "metadata": {},
   "source": [
    "## Loading the Pretrained DistilBERT for Classification"
   ]
  },
  {
   "cell_type": "code",
   "execution_count": 8,
   "id": "c85ac3a3",
   "metadata": {},
   "outputs": [
    {
     "name": "stderr",
     "output_type": "stream",
     "text": [
      "Some weights of DistilBertForSequenceClassification were not initialized from the model checkpoint at distilbert-base-uncased and are newly initialized: ['classifier.bias', 'classifier.weight', 'pre_classifier.bias', 'pre_classifier.weight']\n",
      "You should probably TRAIN this model on a down-stream task to be able to use it for predictions and inference.\n"
     ]
    }
   ],
   "source": [
    "from transformers import DistilBertForSequenceClassification, Trainer, TrainingArguments\n",
    "\n",
    "model = DistilBertForSequenceClassification.from_pretrained(\n",
    "    \"distilbert-base-uncased\",\n",
    "    num_labels=5  # Since Satisfaction is from 1 to 5\n",
    ")"
   ]
  }
 ],
 "metadata": {
  "kernelspec": {
   "display_name": "project_name",
   "language": "python",
   "name": "python3"
  },
  "language_info": {
   "codemirror_mode": {
    "name": "ipython",
    "version": 3
   },
   "file_extension": ".py",
   "mimetype": "text/x-python",
   "name": "python",
   "nbconvert_exporter": "python",
   "pygments_lexer": "ipython3",
   "version": "3.10.6"
  }
 },
 "nbformat": 4,
 "nbformat_minor": 5
}
