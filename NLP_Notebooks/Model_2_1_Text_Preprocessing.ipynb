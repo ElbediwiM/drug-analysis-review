{
 "cells": [
  {
   "cell_type": "markdown",
   "id": "f2add3d7",
   "metadata": {},
   "source": []
  },
  {
   "cell_type": "markdown",
   "id": "41940d27",
   "metadata": {},
   "source": [
    "# Model 2.1 - Relate Review to Satisfaction"
   ]
  },
  {
   "cell_type": "markdown",
   "id": "97db848b",
   "metadata": {},
   "source": [
    "## Text Preprocessing"
   ]
  },
  {
   "cell_type": "markdown",
   "id": "521cc930",
   "metadata": {},
   "source": []
  },
  {
   "cell_type": "markdown",
   "id": "fe31160f",
   "metadata": {},
   "source": [
    "I will work in text preprocessing here."
   ]
  }
 ],
 "metadata": {
  "language_info": {
   "name": "python"
  }
 },
 "nbformat": 4,
 "nbformat_minor": 5
}
