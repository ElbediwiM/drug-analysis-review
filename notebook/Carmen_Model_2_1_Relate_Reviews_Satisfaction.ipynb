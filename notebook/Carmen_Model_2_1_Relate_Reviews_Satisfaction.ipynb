{
 "cells": [
  {
   "cell_type": "markdown",
   "id": "f2add3d7",
   "metadata": {},
   "source": []
  },
  {
   "cell_type": "markdown",
   "id": "41940d27",
   "metadata": {},
   "source": [
    "# Model 2.1 - Relate Review to Satisfaction"
   ]
  },
  {
   "cell_type": "markdown",
   "id": "a9003eaa",
   "metadata": {},
   "source": [
    "Goal 2.1 – Predict Satisfaction from Review Text\n",
    "\n",
    "In this version, we build a deep learning classification model to predict patient satisfaction ratings (1–5) based on free-text drug reviews from the WebMD dataset.\n",
    "\n",
    "Unlike transformer-based models, this approach uses custom-trained Word2Vec embeddings to represent patient reviews, followed by an LSTM neural network to capture the sequential structure of the text. This technique enables us to model semantic meaning and sentiment flow over time within reviews.\n",
    "\n",
    "Key steps include:\n",
    "\n",
    "- Preprocessing reviews (lowercasing, lemmatization, stopword removal, special character stripping)\n",
    "- Training a Word2Vec model on the cleaned corpus\n",
    "- Transforming reviews into padded sequences of embeddings\n",
    "- Training an LSTM classifier to predict satisfaction levels\n",
    "\n",
    "This model is applied across all drugs in the dataset, providing a scalable and interpretable alternative to large transformer-based methods, while still capturing meaningful patterns in patient language."
   ]
  },
  {
   "cell_type": "markdown",
   "id": "f8a0f57c",
   "metadata": {},
   "source": [
    "# Load and Preprocess the Data"
   ]
  },
  {
   "cell_type": "markdown",
   "id": "a32ac5a5",
   "metadata": {},
   "source": [
    "## Loading CSV"
   ]
  },
  {
   "cell_type": "code",
   "execution_count": 1,
   "id": "55303bf0",
   "metadata": {},
   "outputs": [
    {
     "name": "stdout",
     "output_type": "stream",
     "text": [
      "Requirement already satisfied: pandas in /Users/homecomputer/.pyenv/versions/3.10.6/envs/drug-analysis-review/lib/python3.10/site-packages (2.3.1)\n",
      "Requirement already satisfied: numpy>=1.22.4 in /Users/homecomputer/.pyenv/versions/3.10.6/envs/drug-analysis-review/lib/python3.10/site-packages (from pandas) (1.24.4)\n",
      "Requirement already satisfied: python-dateutil>=2.8.2 in /Users/homecomputer/.pyenv/versions/3.10.6/envs/drug-analysis-review/lib/python3.10/site-packages (from pandas) (2.9.0.post0)\n",
      "Requirement already satisfied: pytz>=2020.1 in /Users/homecomputer/.pyenv/versions/3.10.6/envs/drug-analysis-review/lib/python3.10/site-packages (from pandas) (2025.2)\n",
      "Requirement already satisfied: tzdata>=2022.7 in /Users/homecomputer/.pyenv/versions/3.10.6/envs/drug-analysis-review/lib/python3.10/site-packages (from pandas) (2025.2)\n",
      "Requirement already satisfied: six>=1.5 in /Users/homecomputer/.pyenv/versions/3.10.6/envs/drug-analysis-review/lib/python3.10/site-packages (from python-dateutil>=2.8.2->pandas) (1.17.0)\n"
     ]
    }
   ],
   "source": [
    "!pip install pandas"
   ]
  },
  {
   "cell_type": "code",
   "execution_count": 3,
   "id": "f57950fe",
   "metadata": {},
   "outputs": [
    {
     "data": {
      "text/html": [
       "<div>\n",
       "<style scoped>\n",
       "    .dataframe tbody tr th:only-of-type {\n",
       "        vertical-align: middle;\n",
       "    }\n",
       "\n",
       "    .dataframe tbody tr th {\n",
       "        vertical-align: top;\n",
       "    }\n",
       "\n",
       "    .dataframe thead th {\n",
       "        text-align: right;\n",
       "    }\n",
       "</style>\n",
       "<table border=\"1\" class=\"dataframe\">\n",
       "  <thead>\n",
       "    <tr style=\"text-align: right;\">\n",
       "      <th></th>\n",
       "      <th>Drug</th>\n",
       "      <th>Reviews</th>\n",
       "      <th>Satisfaction</th>\n",
       "    </tr>\n",
       "  </thead>\n",
       "  <tbody>\n",
       "    <tr>\n",
       "      <th>0</th>\n",
       "      <td>25dph-7.5peh</td>\n",
       "      <td>I'm a retired physician and of all the meds I ...</td>\n",
       "      <td>5</td>\n",
       "    </tr>\n",
       "    <tr>\n",
       "      <th>1</th>\n",
       "      <td>25dph-7.5peh</td>\n",
       "      <td>cleared me right up even with my throat hurtin...</td>\n",
       "      <td>5</td>\n",
       "    </tr>\n",
       "    <tr>\n",
       "      <th>2</th>\n",
       "      <td>warfarin (bulk) 100 % powder</td>\n",
       "      <td>why did my PTINR go from a normal of 2.5 to ov...</td>\n",
       "      <td>3</td>\n",
       "    </tr>\n",
       "    <tr>\n",
       "      <th>3</th>\n",
       "      <td>warfarin (bulk) 100 % powder</td>\n",
       "      <td>FALLING AND DON'T REALISE IT</td>\n",
       "      <td>1</td>\n",
       "    </tr>\n",
       "    <tr>\n",
       "      <th>4</th>\n",
       "      <td>warfarin (bulk) 100 % powder</td>\n",
       "      <td>My grandfather was prescribed this medication ...</td>\n",
       "      <td>1</td>\n",
       "    </tr>\n",
       "  </tbody>\n",
       "</table>\n",
       "</div>"
      ],
      "text/plain": [
       "                           Drug  \\\n",
       "0                  25dph-7.5peh   \n",
       "1                  25dph-7.5peh   \n",
       "2  warfarin (bulk) 100 % powder   \n",
       "3  warfarin (bulk) 100 % powder   \n",
       "4  warfarin (bulk) 100 % powder   \n",
       "\n",
       "                                             Reviews  Satisfaction  \n",
       "0  I'm a retired physician and of all the meds I ...             5  \n",
       "1  cleared me right up even with my throat hurtin...             5  \n",
       "2  why did my PTINR go from a normal of 2.5 to ov...             3  \n",
       "3                       FALLING AND DON'T REALISE IT             1  \n",
       "4  My grandfather was prescribed this medication ...             1  "
      ]
     },
     "execution_count": 3,
     "metadata": {},
     "output_type": "execute_result"
    }
   ],
   "source": [
    "import pandas as pd\n",
    "\n",
    "# Load CSV using your path\n",
    "df = pd.read_csv('/Users/homecomputer/code/ElbediwiM/drug-analysis-review/carmen_raw_data/webmd.csv')\n",
    "\n",
    "# Clean and prepare relevant columns\n",
    "df = df[['Drug', 'Reviews', 'Satisfaction']].dropna()\n",
    "df['Satisfaction'] = df['Satisfaction'].astype(int)\n",
    "\n",
    "df.head()"
   ]
  },
  {
   "cell_type": "markdown",
   "id": "9a8de79a",
   "metadata": {},
   "source": [
    "## Preprocessing"
   ]
  },
  {
   "cell_type": "code",
   "execution_count": 5,
   "id": "9cb733f2",
   "metadata": {},
   "outputs": [
    {
     "name": "stdout",
     "output_type": "stream",
     "text": [
      "Requirement already satisfied: nltk in /Users/homecomputer/.pyenv/versions/3.10.6/envs/drug-analysis-review/lib/python3.10/site-packages (3.9.1)\n",
      "Requirement already satisfied: click in /Users/homecomputer/.pyenv/versions/3.10.6/envs/drug-analysis-review/lib/python3.10/site-packages (from nltk) (8.2.1)\n",
      "Requirement already satisfied: joblib in /Users/homecomputer/.pyenv/versions/3.10.6/envs/drug-analysis-review/lib/python3.10/site-packages (from nltk) (1.5.1)\n",
      "Requirement already satisfied: regex>=2021.8.3 in /Users/homecomputer/.pyenv/versions/3.10.6/envs/drug-analysis-review/lib/python3.10/site-packages (from nltk) (2025.7.34)\n",
      "Requirement already satisfied: tqdm in /Users/homecomputer/.pyenv/versions/3.10.6/envs/drug-analysis-review/lib/python3.10/site-packages (from nltk) (4.67.1)\n"
     ]
    }
   ],
   "source": [
    "!pip install nltk"
   ]
  },
  {
   "cell_type": "code",
   "execution_count": 6,
   "id": "d911704b",
   "metadata": {},
   "outputs": [
    {
     "name": "stdout",
     "output_type": "stream",
     "text": [
      "Requirement already satisfied: pip in /Users/homecomputer/.pyenv/versions/3.10.6/envs/drug-analysis-review/lib/python3.10/site-packages (25.2)\n"
     ]
    }
   ],
   "source": [
    "!pip install --upgrade pip"
   ]
  },
  {
   "cell_type": "code",
   "execution_count": 7,
   "id": "13d50b9c",
   "metadata": {},
   "outputs": [
    {
     "name": "stderr",
     "output_type": "stream",
     "text": [
      "[nltk_data] Downloading package punkt to\n",
      "[nltk_data]     /Users/homecomputer/nltk_data...\n",
      "[nltk_data]   Package punkt is already up-to-date!\n",
      "[nltk_data] Downloading package stopwords to\n",
      "[nltk_data]     /Users/homecomputer/nltk_data...\n",
      "[nltk_data]   Package stopwords is already up-to-date!\n",
      "[nltk_data] Downloading package wordnet to\n",
      "[nltk_data]     /Users/homecomputer/nltk_data...\n",
      "[nltk_data]   Package wordnet is already up-to-date!\n",
      "[nltk_data] Downloading package omw-1.4 to\n",
      "[nltk_data]     /Users/homecomputer/nltk_data...\n",
      "[nltk_data]   Package omw-1.4 is already up-to-date!\n",
      "100%|██████████| 362763/362763 [02:31<00:00, 2396.53it/s]\n"
     ]
    },
    {
     "data": {
      "text/html": [
       "<div>\n",
       "<style scoped>\n",
       "    .dataframe tbody tr th:only-of-type {\n",
       "        vertical-align: middle;\n",
       "    }\n",
       "\n",
       "    .dataframe tbody tr th {\n",
       "        vertical-align: top;\n",
       "    }\n",
       "\n",
       "    .dataframe thead th {\n",
       "        text-align: right;\n",
       "    }\n",
       "</style>\n",
       "<table border=\"1\" class=\"dataframe\">\n",
       "  <thead>\n",
       "    <tr style=\"text-align: right;\">\n",
       "      <th></th>\n",
       "      <th>Drug</th>\n",
       "      <th>Reviews</th>\n",
       "      <th>clean_review</th>\n",
       "    </tr>\n",
       "  </thead>\n",
       "  <tbody>\n",
       "    <tr>\n",
       "      <th>0</th>\n",
       "      <td>25dph-7.5peh</td>\n",
       "      <td>I'm a retired physician and of all the meds I ...</td>\n",
       "      <td>dphpeh im retired physician med tried allergy ...</td>\n",
       "    </tr>\n",
       "    <tr>\n",
       "      <th>1</th>\n",
       "      <td>25dph-7.5peh</td>\n",
       "      <td>cleared me right up even with my throat hurtin...</td>\n",
       "      <td>dphpeh cleared right even throat hurting went ...</td>\n",
       "    </tr>\n",
       "    <tr>\n",
       "      <th>2</th>\n",
       "      <td>warfarin (bulk) 100 % powder</td>\n",
       "      <td>why did my PTINR go from a normal of 2.5 to ov...</td>\n",
       "      <td>warfarin bulk powder ptinr go normal</td>\n",
       "    </tr>\n",
       "    <tr>\n",
       "      <th>3</th>\n",
       "      <td>warfarin (bulk) 100 % powder</td>\n",
       "      <td>FALLING AND DON'T REALISE IT</td>\n",
       "      <td>warfarin bulk powder falling dont realise</td>\n",
       "    </tr>\n",
       "    <tr>\n",
       "      <th>4</th>\n",
       "      <td>warfarin (bulk) 100 % powder</td>\n",
       "      <td>My grandfather was prescribed this medication ...</td>\n",
       "      <td>warfarin bulk powder grandfather prescribed me...</td>\n",
       "    </tr>\n",
       "  </tbody>\n",
       "</table>\n",
       "</div>"
      ],
      "text/plain": [
       "                           Drug  \\\n",
       "0                  25dph-7.5peh   \n",
       "1                  25dph-7.5peh   \n",
       "2  warfarin (bulk) 100 % powder   \n",
       "3  warfarin (bulk) 100 % powder   \n",
       "4  warfarin (bulk) 100 % powder   \n",
       "\n",
       "                                             Reviews  \\\n",
       "0  I'm a retired physician and of all the meds I ...   \n",
       "1  cleared me right up even with my throat hurtin...   \n",
       "2  why did my PTINR go from a normal of 2.5 to ov...   \n",
       "3                       FALLING AND DON'T REALISE IT   \n",
       "4  My grandfather was prescribed this medication ...   \n",
       "\n",
       "                                        clean_review  \n",
       "0  dphpeh im retired physician med tried allergy ...  \n",
       "1  dphpeh cleared right even throat hurting went ...  \n",
       "2               warfarin bulk powder ptinr go normal  \n",
       "3          warfarin bulk powder falling dont realise  \n",
       "4  warfarin bulk powder grandfather prescribed me...  "
      ]
     },
     "execution_count": 7,
     "metadata": {},
     "output_type": "execute_result"
    }
   ],
   "source": [
    "import re\n",
    "import nltk\n",
    "import pandas as pd\n",
    "from nltk.corpus import stopwords\n",
    "from nltk.stem import WordNetLemmatizer\n",
    "from tqdm import tqdm\n",
    "\n",
    "# One-time downloads\n",
    "nltk.download('punkt')\n",
    "nltk.download('stopwords')\n",
    "nltk.download('wordnet')\n",
    "nltk.download('omw-1.4')\n",
    "\n",
    "# Tools\n",
    "stop_words = set(stopwords.words('english'))\n",
    "lemmatizer = WordNetLemmatizer()\n",
    "\n",
    "# 🚀 Preprocessing function (drug + review)\n",
    "def preprocess_text(drug, review):\n",
    "    text = f\"{drug} {review}\".lower()\n",
    "    text = re.sub(r'[^a-z\\s]', '', text)\n",
    "    tokens = nltk.word_tokenize(text)\n",
    "    tokens = [lemmatizer.lemmatize(t) for t in tokens if t not in stop_words and t.isalpha()]\n",
    "    return \" \".join(tokens)\n",
    "\n",
    "# ✅ Apply preprocessing with tqdm\n",
    "tqdm.pandas()\n",
    "df['clean_review'] = df.progress_apply(lambda row: preprocess_text(row['Drug'], row['Reviews']), axis=1)\n",
    "\n",
    "# ✅ Preview\n",
    "df[['Drug', 'Reviews', 'clean_review']].head()"
   ]
  },
  {
   "cell_type": "markdown",
   "id": "f0bfac32",
   "metadata": {},
   "source": [
    "# Token to Vector Sequences + Padding"
   ]
  },
  {
   "cell_type": "code",
   "execution_count": 40,
   "id": "a068ecca",
   "metadata": {},
   "outputs": [
    {
     "name": "stdout",
     "output_type": "stream",
     "text": [
      "Requirement already satisfied: tensorflow in /Users/homecomputer/.pyenv/versions/3.10.6/envs/drug-analysis-review/lib/python3.10/site-packages (2.16.2)\n",
      "Requirement already satisfied: absl-py>=1.0.0 in /Users/homecomputer/.pyenv/versions/3.10.6/envs/drug-analysis-review/lib/python3.10/site-packages (from tensorflow) (2.3.1)\n",
      "Requirement already satisfied: astunparse>=1.6.0 in /Users/homecomputer/.pyenv/versions/3.10.6/envs/drug-analysis-review/lib/python3.10/site-packages (from tensorflow) (1.6.3)\n",
      "Requirement already satisfied: flatbuffers>=23.5.26 in /Users/homecomputer/.pyenv/versions/3.10.6/envs/drug-analysis-review/lib/python3.10/site-packages (from tensorflow) (25.2.10)\n",
      "Requirement already satisfied: gast!=0.5.0,!=0.5.1,!=0.5.2,>=0.2.1 in /Users/homecomputer/.pyenv/versions/3.10.6/envs/drug-analysis-review/lib/python3.10/site-packages (from tensorflow) (0.6.0)\n",
      "Requirement already satisfied: google-pasta>=0.1.1 in /Users/homecomputer/.pyenv/versions/3.10.6/envs/drug-analysis-review/lib/python3.10/site-packages (from tensorflow) (0.2.0)\n",
      "Requirement already satisfied: h5py>=3.10.0 in /Users/homecomputer/.pyenv/versions/3.10.6/envs/drug-analysis-review/lib/python3.10/site-packages (from tensorflow) (3.14.0)\n",
      "Requirement already satisfied: libclang>=13.0.0 in /Users/homecomputer/.pyenv/versions/3.10.6/envs/drug-analysis-review/lib/python3.10/site-packages (from tensorflow) (18.1.1)\n",
      "Requirement already satisfied: ml-dtypes~=0.3.1 in /Users/homecomputer/.pyenv/versions/3.10.6/envs/drug-analysis-review/lib/python3.10/site-packages (from tensorflow) (0.3.2)\n",
      "Requirement already satisfied: opt-einsum>=2.3.2 in /Users/homecomputer/.pyenv/versions/3.10.6/envs/drug-analysis-review/lib/python3.10/site-packages (from tensorflow) (3.4.0)\n",
      "Requirement already satisfied: packaging in /Users/homecomputer/.pyenv/versions/3.10.6/envs/drug-analysis-review/lib/python3.10/site-packages (from tensorflow) (25.0)\n",
      "Requirement already satisfied: protobuf!=4.21.0,!=4.21.1,!=4.21.2,!=4.21.3,!=4.21.4,!=4.21.5,<5.0.0dev,>=3.20.3 in /Users/homecomputer/.pyenv/versions/3.10.6/envs/drug-analysis-review/lib/python3.10/site-packages (from tensorflow) (4.25.8)\n",
      "Requirement already satisfied: requests<3,>=2.21.0 in /Users/homecomputer/.pyenv/versions/3.10.6/envs/drug-analysis-review/lib/python3.10/site-packages (from tensorflow) (2.32.4)\n",
      "Requirement already satisfied: setuptools in /Users/homecomputer/.pyenv/versions/3.10.6/envs/drug-analysis-review/lib/python3.10/site-packages (from tensorflow) (63.2.0)\n",
      "Requirement already satisfied: six>=1.12.0 in /Users/homecomputer/.pyenv/versions/3.10.6/envs/drug-analysis-review/lib/python3.10/site-packages (from tensorflow) (1.17.0)\n",
      "Requirement already satisfied: termcolor>=1.1.0 in /Users/homecomputer/.pyenv/versions/3.10.6/envs/drug-analysis-review/lib/python3.10/site-packages (from tensorflow) (3.1.0)\n",
      "Requirement already satisfied: typing-extensions>=3.6.6 in /Users/homecomputer/.pyenv/versions/3.10.6/envs/drug-analysis-review/lib/python3.10/site-packages (from tensorflow) (4.14.1)\n",
      "Requirement already satisfied: wrapt>=1.11.0 in /Users/homecomputer/.pyenv/versions/3.10.6/envs/drug-analysis-review/lib/python3.10/site-packages (from tensorflow) (1.17.2)\n",
      "Requirement already satisfied: grpcio<2.0,>=1.24.3 in /Users/homecomputer/.pyenv/versions/3.10.6/envs/drug-analysis-review/lib/python3.10/site-packages (from tensorflow) (1.74.0)\n",
      "Requirement already satisfied: tensorboard<2.17,>=2.16 in /Users/homecomputer/.pyenv/versions/3.10.6/envs/drug-analysis-review/lib/python3.10/site-packages (from tensorflow) (2.16.2)\n",
      "Requirement already satisfied: keras>=3.0.0 in /Users/homecomputer/.pyenv/versions/3.10.6/envs/drug-analysis-review/lib/python3.10/site-packages (from tensorflow) (3.11.0)\n",
      "Requirement already satisfied: tensorflow-io-gcs-filesystem>=0.23.1 in /Users/homecomputer/.pyenv/versions/3.10.6/envs/drug-analysis-review/lib/python3.10/site-packages (from tensorflow) (0.37.1)\n",
      "Requirement already satisfied: numpy<2.0.0,>=1.23.5 in /Users/homecomputer/.pyenv/versions/3.10.6/envs/drug-analysis-review/lib/python3.10/site-packages (from tensorflow) (1.24.4)\n",
      "Requirement already satisfied: charset_normalizer<4,>=2 in /Users/homecomputer/.pyenv/versions/3.10.6/envs/drug-analysis-review/lib/python3.10/site-packages (from requests<3,>=2.21.0->tensorflow) (3.4.2)\n",
      "Requirement already satisfied: idna<4,>=2.5 in /Users/homecomputer/.pyenv/versions/3.10.6/envs/drug-analysis-review/lib/python3.10/site-packages (from requests<3,>=2.21.0->tensorflow) (3.10)\n",
      "Requirement already satisfied: urllib3<3,>=1.21.1 in /Users/homecomputer/.pyenv/versions/3.10.6/envs/drug-analysis-review/lib/python3.10/site-packages (from requests<3,>=2.21.0->tensorflow) (2.5.0)\n",
      "Requirement already satisfied: certifi>=2017.4.17 in /Users/homecomputer/.pyenv/versions/3.10.6/envs/drug-analysis-review/lib/python3.10/site-packages (from requests<3,>=2.21.0->tensorflow) (2025.7.14)\n",
      "Requirement already satisfied: markdown>=2.6.8 in /Users/homecomputer/.pyenv/versions/3.10.6/envs/drug-analysis-review/lib/python3.10/site-packages (from tensorboard<2.17,>=2.16->tensorflow) (3.8.2)\n",
      "Requirement already satisfied: tensorboard-data-server<0.8.0,>=0.7.0 in /Users/homecomputer/.pyenv/versions/3.10.6/envs/drug-analysis-review/lib/python3.10/site-packages (from tensorboard<2.17,>=2.16->tensorflow) (0.7.2)\n",
      "Requirement already satisfied: werkzeug>=1.0.1 in /Users/homecomputer/.pyenv/versions/3.10.6/envs/drug-analysis-review/lib/python3.10/site-packages (from tensorboard<2.17,>=2.16->tensorflow) (3.1.3)\n",
      "Requirement already satisfied: wheel<1.0,>=0.23.0 in /Users/homecomputer/.pyenv/versions/3.10.6/envs/drug-analysis-review/lib/python3.10/site-packages (from astunparse>=1.6.0->tensorflow) (0.45.1)\n",
      "Requirement already satisfied: rich in /Users/homecomputer/.pyenv/versions/3.10.6/envs/drug-analysis-review/lib/python3.10/site-packages (from keras>=3.0.0->tensorflow) (14.1.0)\n",
      "Requirement already satisfied: namex in /Users/homecomputer/.pyenv/versions/3.10.6/envs/drug-analysis-review/lib/python3.10/site-packages (from keras>=3.0.0->tensorflow) (0.1.0)\n",
      "Requirement already satisfied: optree in /Users/homecomputer/.pyenv/versions/3.10.6/envs/drug-analysis-review/lib/python3.10/site-packages (from keras>=3.0.0->tensorflow) (0.17.0)\n",
      "Requirement already satisfied: MarkupSafe>=2.1.1 in /Users/homecomputer/.pyenv/versions/3.10.6/envs/drug-analysis-review/lib/python3.10/site-packages (from werkzeug>=1.0.1->tensorboard<2.17,>=2.16->tensorflow) (3.0.2)\n",
      "Requirement already satisfied: markdown-it-py>=2.2.0 in /Users/homecomputer/.pyenv/versions/3.10.6/envs/drug-analysis-review/lib/python3.10/site-packages (from rich->keras>=3.0.0->tensorflow) (3.0.0)\n",
      "Requirement already satisfied: pygments<3.0.0,>=2.13.0 in /Users/homecomputer/.pyenv/versions/3.10.6/envs/drug-analysis-review/lib/python3.10/site-packages (from rich->keras>=3.0.0->tensorflow) (2.19.2)\n",
      "Requirement already satisfied: mdurl~=0.1 in /Users/homecomputer/.pyenv/versions/3.10.6/envs/drug-analysis-review/lib/python3.10/site-packages (from markdown-it-py>=2.2.0->rich->keras>=3.0.0->tensorflow) (0.1.2)\n"
     ]
    }
   ],
   "source": [
    "!pip install tensorflow"
   ]
  },
  {
   "cell_type": "code",
   "execution_count": 9,
   "id": "c26040a1",
   "metadata": {},
   "outputs": [
    {
     "name": "stdout",
     "output_type": "stream",
     "text": [
      "Requirement already satisfied: gensim in /Users/homecomputer/.pyenv/versions/3.10.6/envs/drug-analysis-review/lib/python3.10/site-packages (4.3.3)\n",
      "Requirement already satisfied: numpy<2.0,>=1.18.5 in /Users/homecomputer/.pyenv/versions/3.10.6/envs/drug-analysis-review/lib/python3.10/site-packages (from gensim) (1.24.4)\n",
      "Requirement already satisfied: scipy<1.14.0,>=1.7.0 in /Users/homecomputer/.pyenv/versions/3.10.6/envs/drug-analysis-review/lib/python3.10/site-packages (from gensim) (1.13.1)\n",
      "Requirement already satisfied: smart-open>=1.8.1 in /Users/homecomputer/.pyenv/versions/3.10.6/envs/drug-analysis-review/lib/python3.10/site-packages (from gensim) (7.3.0.post1)\n",
      "Requirement already satisfied: wrapt in /Users/homecomputer/.pyenv/versions/3.10.6/envs/drug-analysis-review/lib/python3.10/site-packages (from smart-open>=1.8.1->gensim) (1.17.2)\n"
     ]
    }
   ],
   "source": [
    "#  library that provides the Word2Vec model, to be used to convert reviews into vector representations of words.\n",
    "!pip install gensim"
   ]
  },
  {
   "cell_type": "code",
   "execution_count": 10,
   "id": "6391fca2",
   "metadata": {},
   "outputs": [
    {
     "name": "stdout",
     "output_type": "stream",
     "text": [
      "Requirement already satisfied: numpy==1.24.4 in /Users/homecomputer/.pyenv/versions/3.10.6/envs/drug-analysis-review/lib/python3.10/site-packages (1.24.4)\n"
     ]
    }
   ],
   "source": [
    "!pip install numpy==1.24.4"
   ]
  },
  {
   "cell_type": "code",
   "execution_count": 11,
   "id": "daa28b2a",
   "metadata": {},
   "outputs": [],
   "source": [
    "from gensim.models import Word2Vec\n",
    "\n",
    "# Tokenize cleaned reviews into lists of words\n",
    "sentences = [review.split() for review in df['clean_review']]\n",
    "\n",
    "# Train Word2Vec model (lightweight settings)\n",
    "w2v_model = Word2Vec(sentences=sentences,\n",
    "                     vector_size=100,\n",
    "                     window=5,\n",
    "                     min_count=2,\n",
    "                     workers=4,\n",
    "                     sg=1)"
   ]
  },
  {
   "cell_type": "markdown",
   "id": "5a95f58f",
   "metadata": {},
   "source": [
    "## Convert Reviews to Vector Sequences"
   ]
  },
  {
   "cell_type": "code",
   "execution_count": 12,
   "id": "97041416",
   "metadata": {},
   "outputs": [
    {
     "name": "stderr",
     "output_type": "stream",
     "text": [
      "2025-08-01 09:44:02.626055: I tensorflow/core/platform/cpu_feature_guard.cc:210] This TensorFlow binary is optimized to use available CPU instructions in performance-critical operations.\n",
      "To enable the following instructions: AVX2 FMA, in other operations, rebuild TensorFlow with the appropriate compiler flags.\n"
     ]
    }
   ],
   "source": [
    "# Tokenize, embed with Word2Vec, pad to uniform shape, and prepare target labels\n",
    "\n",
    "import numpy as np\n",
    "from tensorflow.keras.preprocessing.sequence import pad_sequences\n",
    "\n",
    "# Define parameters\n",
    "embedding_dim = 100\n",
    "max_length = 100  # Limit sequence length\n",
    "vocab = w2v_model.wv\n",
    "zero_vector = np.zeros(embedding_dim)  # Used to pad or replace unknown tokens\n",
    "\n",
    "# Function to convert one review to a list of vectors\n",
    "def review_to_vector_sequence(tokens):\n",
    "    return [vocab[t] if t in vocab else zero_vector for t in tokens[:max_length]]\n",
    "\n",
    "# Tokenize + vectorize using pandas (faster than list comprehension)\n",
    "tokenized = df['clean_review'].str.split()\n",
    "sequences = tokenized.apply(review_to_vector_sequence).tolist()\n",
    "\n",
    "# Pad sequences to uniform length\n",
    "padded_sequences = pad_sequences(sequences, maxlen=max_length, dtype='float32',\n",
    "                                 padding='post', truncating='post')\n",
    "\n",
    "# Convert satisfaction to zero-based integer classes [0–4]\n",
    "labels = df['Satisfaction'] - 1"
   ]
  },
  {
   "cell_type": "markdown",
   "id": "8688880c",
   "metadata": {},
   "source": [
    "# Build and Train the LSTM Model "
   ]
  },
  {
   "cell_type": "code",
   "execution_count": 14,
   "id": "33c8302d",
   "metadata": {},
   "outputs": [
    {
     "name": "stdout",
     "output_type": "stream",
     "text": [
      "Collecting scikit-learn\n",
      "  Using cached scikit_learn-1.7.1-cp310-cp310-macosx_10_9_x86_64.whl.metadata (11 kB)\n",
      "Requirement already satisfied: numpy>=1.22.0 in /Users/homecomputer/.pyenv/versions/3.10.6/envs/drug-analysis-review/lib/python3.10/site-packages (from scikit-learn) (1.24.4)\n",
      "Requirement already satisfied: scipy>=1.8.0 in /Users/homecomputer/.pyenv/versions/3.10.6/envs/drug-analysis-review/lib/python3.10/site-packages (from scikit-learn) (1.13.1)\n",
      "Requirement already satisfied: joblib>=1.2.0 in /Users/homecomputer/.pyenv/versions/3.10.6/envs/drug-analysis-review/lib/python3.10/site-packages (from scikit-learn) (1.5.1)\n",
      "Collecting threadpoolctl>=3.1.0 (from scikit-learn)\n",
      "  Using cached threadpoolctl-3.6.0-py3-none-any.whl.metadata (13 kB)\n",
      "Using cached scikit_learn-1.7.1-cp310-cp310-macosx_10_9_x86_64.whl (9.3 MB)\n",
      "Using cached threadpoolctl-3.6.0-py3-none-any.whl (18 kB)\n",
      "Installing collected packages: threadpoolctl, scikit-learn\n",
      "\u001b[2K   \u001b[90m━━━━━━━━━━━━━━━━━━━━━━━━━━━━━━━━━━━━━━━━\u001b[0m \u001b[32m2/2\u001b[0m [scikit-learn][0m [scikit-learn]\n",
      "\u001b[1A\u001b[2KSuccessfully installed scikit-learn-1.7.1 threadpoolctl-3.6.0\n"
     ]
    }
   ],
   "source": [
    "!pip install scikit-learn"
   ]
  },
  {
   "cell_type": "code",
   "execution_count": 15,
   "id": "349afb91",
   "metadata": {},
   "outputs": [
    {
     "name": "stderr",
     "output_type": "stream",
     "text": [
      "/Users/homecomputer/.pyenv/versions/3.10.6/envs/drug-analysis-review/lib/python3.10/site-packages/keras/src/layers/core/masking.py:48: UserWarning: Do not pass an `input_shape`/`input_dim` argument to a layer. When using Sequential models, prefer using an `Input(shape)` object as the first layer in the model instead.\n",
      "  super().__init__(**kwargs)\n"
     ]
    },
    {
     "name": "stdout",
     "output_type": "stream",
     "text": [
      "Epoch 1/15\n",
      "\u001b[1m8163/8163\u001b[0m \u001b[32m━━━━━━━━━━━━━━━━━━━━\u001b[0m\u001b[37m\u001b[0m \u001b[1m262s\u001b[0m 32ms/step - accuracy: 0.4838 - loss: 1.2692 - val_accuracy: 0.4924 - val_loss: 1.2495\n",
      "Epoch 2/15\n",
      "\u001b[1m8163/8163\u001b[0m \u001b[32m━━━━━━━━━━━━━━━━━━━━\u001b[0m\u001b[37m\u001b[0m \u001b[1m315s\u001b[0m 39ms/step - accuracy: 0.5114 - loss: 1.2024 - val_accuracy: 0.5132 - val_loss: 1.1992\n",
      "Epoch 3/15\n",
      "\u001b[1m8163/8163\u001b[0m \u001b[32m━━━━━━━━━━━━━━━━━━━━\u001b[0m\u001b[37m\u001b[0m \u001b[1m305s\u001b[0m 37ms/step - accuracy: 0.5203 - loss: 1.1781 - val_accuracy: 0.5226 - val_loss: 1.1735\n",
      "Epoch 4/15\n",
      "\u001b[1m8163/8163\u001b[0m \u001b[32m━━━━━━━━━━━━━━━━━━━━\u001b[0m\u001b[37m\u001b[0m \u001b[1m320s\u001b[0m 39ms/step - accuracy: 0.5261 - loss: 1.1615 - val_accuracy: 0.5187 - val_loss: 1.1734\n",
      "Epoch 5/15\n",
      "\u001b[1m8163/8163\u001b[0m \u001b[32m━━━━━━━━━━━━━━━━━━━━\u001b[0m\u001b[37m\u001b[0m \u001b[1m310s\u001b[0m 38ms/step - accuracy: 0.5310 - loss: 1.1498 - val_accuracy: 0.5238 - val_loss: 1.1651\n",
      "Epoch 6/15\n",
      "\u001b[1m8163/8163\u001b[0m \u001b[32m━━━━━━━━━━━━━━━━━━━━\u001b[0m\u001b[37m\u001b[0m \u001b[1m324s\u001b[0m 40ms/step - accuracy: 0.5340 - loss: 1.1409 - val_accuracy: 0.5317 - val_loss: 1.1550\n",
      "Epoch 7/15\n",
      "\u001b[1m8163/8163\u001b[0m \u001b[32m━━━━━━━━━━━━━━━━━━━━\u001b[0m\u001b[37m\u001b[0m \u001b[1m320s\u001b[0m 39ms/step - accuracy: 0.5368 - loss: 1.1335 - val_accuracy: 0.5291 - val_loss: 1.1546\n",
      "Epoch 8/15\n",
      "\u001b[1m8163/8163\u001b[0m \u001b[32m━━━━━━━━━━━━━━━━━━━━\u001b[0m\u001b[37m\u001b[0m \u001b[1m393s\u001b[0m 48ms/step - accuracy: 0.5395 - loss: 1.1270 - val_accuracy: 0.5328 - val_loss: 1.1539\n",
      "Epoch 9/15\n",
      "\u001b[1m8163/8163\u001b[0m \u001b[32m━━━━━━━━━━━━━━━━━━━━\u001b[0m\u001b[37m\u001b[0m \u001b[1m250s\u001b[0m 31ms/step - accuracy: 0.5412 - loss: 1.1215 - val_accuracy: 0.5311 - val_loss: 1.1594\n",
      "Epoch 10/15\n",
      "\u001b[1m8163/8163\u001b[0m \u001b[32m━━━━━━━━━━━━━━━━━━━━\u001b[0m\u001b[37m\u001b[0m \u001b[1m313s\u001b[0m 38ms/step - accuracy: 0.5437 - loss: 1.1163 - val_accuracy: 0.5332 - val_loss: 1.1505\n",
      "Epoch 11/15\n",
      "\u001b[1m8163/8163\u001b[0m \u001b[32m━━━━━━━━━━━━━━━━━━━━\u001b[0m\u001b[37m\u001b[0m \u001b[1m284s\u001b[0m 35ms/step - accuracy: 0.5458 - loss: 1.1114 - val_accuracy: 0.5315 - val_loss: 1.1526\n",
      "Epoch 12/15\n",
      "\u001b[1m8163/8163\u001b[0m \u001b[32m━━━━━━━━━━━━━━━━━━━━\u001b[0m\u001b[37m\u001b[0m \u001b[1m311s\u001b[0m 38ms/step - accuracy: 0.5467 - loss: 1.1079 - val_accuracy: 0.5325 - val_loss: 1.1468\n",
      "Epoch 13/15\n",
      "\u001b[1m8163/8163\u001b[0m \u001b[32m━━━━━━━━━━━━━━━━━━━━\u001b[0m\u001b[37m\u001b[0m \u001b[1m348s\u001b[0m 43ms/step - accuracy: 0.5485 - loss: 1.1038 - val_accuracy: 0.5319 - val_loss: 1.1549\n",
      "Epoch 14/15\n",
      "\u001b[1m8163/8163\u001b[0m \u001b[32m━━━━━━━━━━━━━━━━━━━━\u001b[0m\u001b[37m\u001b[0m \u001b[1m331s\u001b[0m 41ms/step - accuracy: 0.5499 - loss: 1.1006 - val_accuracy: 0.5344 - val_loss: 1.1476\n"
     ]
    }
   ],
   "source": [
    "# 1. Filter out invalid satisfaction scores\n",
    "df = df[df['Satisfaction'].between(1, 5)]\n",
    "\n",
    "# 2. Recompute labels from the filtered dataset\n",
    "labels = df['Satisfaction'] - 1  # Now range is [0–4]\n",
    "\n",
    "# 3. Recompute padded sequences from filtered reviews\n",
    "sentences = [review.split() for review in df['clean_review']]\n",
    "sequences = [\n",
    "    [w2v_model.wv[t] if t in w2v_model.wv else zero_vector for t in tokens[:max_length]]\n",
    "    for tokens in sentences\n",
    "]\n",
    "padded_sequences = pad_sequences(\n",
    "    sequences, maxlen=max_length, dtype='float32', padding='post', truncating='post'\n",
    ")\n",
    "\n",
    "# 4. One-hot encode labels\n",
    "from tensorflow.keras.utils import to_categorical\n",
    "y = to_categorical(labels, num_classes=5)\n",
    "\n",
    "# 5. Train-test split\n",
    "from sklearn.model_selection import train_test_split\n",
    "X_train, X_test, y_train, y_test = train_test_split(\n",
    "    padded_sequences, y, test_size=0.2, random_state=42\n",
    ")\n",
    "\n",
    "# 6. Define lightweight LSTM model\n",
    "from tensorflow.keras.models import Sequential\n",
    "from tensorflow.keras.layers import LSTM, Dense, Masking\n",
    "from tensorflow.keras.callbacks import EarlyStopping\n",
    "\n",
    "model = Sequential([\n",
    "    Masking(mask_value=0., input_shape=(max_length, embedding_dim)),  # Skip zero-padding\n",
    "    LSTM(32),                                                          # Small LSTM\n",
    "    Dense(5, activation='softmax')                                     # 5-class output\n",
    "])\n",
    "\n",
    "# 7. Compile model\n",
    "model.compile(\n",
    "    optimizer='adam',\n",
    "    loss='categorical_crossentropy',\n",
    "    metrics=['accuracy']\n",
    ")\n",
    "\n",
    "# 8. Add EarlyStopping and train model\n",
    "early_stop = EarlyStopping(monitor='val_loss', patience=2, restore_best_weights=True)\n",
    "\n",
    "history = model.fit(\n",
    "    X_train, y_train,\n",
    "    epochs=15,\n",
    "    batch_size=32,\n",
    "    validation_split=0.1,\n",
    "    callbacks=[early_stop]\n",
    ")"
   ]
  },
  {
   "cell_type": "markdown",
   "id": "1af95a44",
   "metadata": {},
   "source": [
    "# Evaluate & Plot Training History"
   ]
  },
  {
   "cell_type": "code",
   "execution_count": 17,
   "id": "6d48f24d",
   "metadata": {},
   "outputs": [
    {
     "name": "stdout",
     "output_type": "stream",
     "text": [
      "Collecting matplotlib\n",
      "  Downloading matplotlib-3.10.5-cp310-cp310-macosx_10_12_x86_64.whl.metadata (11 kB)\n",
      "Collecting contourpy>=1.0.1 (from matplotlib)\n",
      "  Using cached contourpy-1.3.2-cp310-cp310-macosx_10_9_x86_64.whl.metadata (5.5 kB)\n",
      "Collecting cycler>=0.10 (from matplotlib)\n",
      "  Using cached cycler-0.12.1-py3-none-any.whl.metadata (3.8 kB)\n",
      "Collecting fonttools>=4.22.0 (from matplotlib)\n",
      "  Using cached fonttools-4.59.0-cp310-cp310-macosx_10_9_x86_64.whl.metadata (107 kB)\n",
      "Collecting kiwisolver>=1.3.1 (from matplotlib)\n",
      "  Using cached kiwisolver-1.4.8-cp310-cp310-macosx_10_9_x86_64.whl.metadata (6.2 kB)\n",
      "Requirement already satisfied: numpy>=1.23 in /Users/homecomputer/.pyenv/versions/3.10.6/envs/drug-analysis-review/lib/python3.10/site-packages (from matplotlib) (1.24.4)\n",
      "Requirement already satisfied: packaging>=20.0 in /Users/homecomputer/.pyenv/versions/3.10.6/envs/drug-analysis-review/lib/python3.10/site-packages (from matplotlib) (25.0)\n",
      "Collecting pillow>=8 (from matplotlib)\n",
      "  Using cached pillow-11.3.0-cp310-cp310-macosx_10_10_x86_64.whl.metadata (9.0 kB)\n",
      "Collecting pyparsing>=2.3.1 (from matplotlib)\n",
      "  Using cached pyparsing-3.2.3-py3-none-any.whl.metadata (5.0 kB)\n",
      "Requirement already satisfied: python-dateutil>=2.7 in /Users/homecomputer/.pyenv/versions/3.10.6/envs/drug-analysis-review/lib/python3.10/site-packages (from matplotlib) (2.9.0.post0)\n",
      "Requirement already satisfied: six>=1.5 in /Users/homecomputer/.pyenv/versions/3.10.6/envs/drug-analysis-review/lib/python3.10/site-packages (from python-dateutil>=2.7->matplotlib) (1.17.0)\n",
      "Downloading matplotlib-3.10.5-cp310-cp310-macosx_10_12_x86_64.whl (8.2 MB)\n",
      "\u001b[2K   \u001b[90m━━━━━━━━━━━━━━━━━━━━━━━━━━━━━━━━━━━━━━━━\u001b[0m \u001b[32m8.2/8.2 MB\u001b[0m \u001b[31m6.0 MB/s\u001b[0m  \u001b[33m0:00:01\u001b[0m eta \u001b[36m0:00:01\u001b[0m\n",
      "\u001b[?25hUsing cached contourpy-1.3.2-cp310-cp310-macosx_10_9_x86_64.whl (268 kB)\n",
      "Using cached cycler-0.12.1-py3-none-any.whl (8.3 kB)\n",
      "Using cached fonttools-4.59.0-cp310-cp310-macosx_10_9_x86_64.whl (2.3 MB)\n",
      "Using cached kiwisolver-1.4.8-cp310-cp310-macosx_10_9_x86_64.whl (66 kB)\n",
      "Using cached pillow-11.3.0-cp310-cp310-macosx_10_10_x86_64.whl (5.3 MB)\n",
      "Using cached pyparsing-3.2.3-py3-none-any.whl (111 kB)\n",
      "Installing collected packages: pyparsing, pillow, kiwisolver, fonttools, cycler, contourpy, matplotlib\n",
      "\u001b[2K   \u001b[90m━━━━━━━━━━━━━━━━━━━━━━━━━━━━━━━━━━━━━━━━\u001b[0m \u001b[32m7/7\u001b[0m [matplotlib]7\u001b[0m [matplotlib]\n",
      "\u001b[1A\u001b[2KSuccessfully installed contourpy-1.3.2 cycler-0.12.1 fonttools-4.59.0 kiwisolver-1.4.8 matplotlib-3.10.5 pillow-11.3.0 pyparsing-3.2.3\n"
     ]
    }
   ],
   "source": [
    "!pip install matplotlib"
   ]
  },
  {
   "cell_type": "code",
   "execution_count": 19,
   "id": "80bbc098",
   "metadata": {},
   "outputs": [
    {
     "name": "stdout",
     "output_type": "stream",
     "text": [
      "✅ Test Accuracy: 0.5347\n",
      "❌ Test Loss: 1.1440\n"
     ]
    },
    {
     "name": "stderr",
     "output_type": "stream",
     "text": [
      "/var/folders/63/pmctnrz94_d2tc273tv9pbn80000gn/T/ipykernel_2960/977337599.py:33: UserWarning: Glyph 128200 (\\N{CHART WITH UPWARDS TREND}) missing from font(s) Arial.\n",
      "  plt.tight_layout()\n",
      "/var/folders/63/pmctnrz94_d2tc273tv9pbn80000gn/T/ipykernel_2960/977337599.py:33: UserWarning: Glyph 128201 (\\N{CHART WITH DOWNWARDS TREND}) missing from font(s) Arial.\n",
      "  plt.tight_layout()\n",
      "/Users/homecomputer/.pyenv/versions/3.10.6/envs/drug-analysis-review/lib/python3.10/site-packages/IPython/core/pylabtools.py:170: UserWarning: Glyph 128200 (\\N{CHART WITH UPWARDS TREND}) missing from font(s) Arial.\n",
      "  fig.canvas.print_figure(bytes_io, **kw)\n",
      "/Users/homecomputer/.pyenv/versions/3.10.6/envs/drug-analysis-review/lib/python3.10/site-packages/IPython/core/pylabtools.py:170: UserWarning: Glyph 128201 (\\N{CHART WITH DOWNWARDS TREND}) missing from font(s) Arial.\n",
      "  fig.canvas.print_figure(bytes_io, **kw)\n"
     ]
    },
    {
     "data": {
      "image/png": "[encoded data removed]",
      "text/plain": [
       "<Figure size 1200x400 with 2 Axes>"
      ]
     },
     "metadata": {},
     "output_type": "display_data"
    }
   ],
   "source": [
    "import matplotlib.pyplot as plt\n",
    "import numpy as np\n",
    "\n",
    "# Optional: Use a clean, built-in style (comment out if not needed)\n",
    "plt.style.use('seaborn-v0_8-darkgrid')  # safe replacement for 'seaborn-darkgrid'\n",
    "\n",
    "# 1. Evaluate on test set\n",
    "test_loss, test_acc = model.evaluate(X_test, y_test, verbose=0)\n",
    "print(f\"✅ Test Accuracy: {test_acc:.4f}\")\n",
    "print(f\"❌ Test Loss: {test_loss:.4f}\")\n",
    "\n",
    "# 2. Plot accuracy & loss curves\n",
    "plt.figure(figsize=(12, 4))\n",
    "\n",
    "# Accuracy subplot\n",
    "plt.subplot(1, 2, 1)\n",
    "plt.plot(history.history['accuracy'], label='Train Accuracy')\n",
    "plt.plot(history.history['val_accuracy'], label='Validation Accuracy')\n",
    "plt.title('📈 Accuracy over Epochs')\n",
    "plt.xlabel('Epoch')\n",
    "plt.ylabel('Accuracy')\n",
    "plt.legend()\n",
    "\n",
    "# Loss subplot\n",
    "plt.subplot(1, 2, 2)\n",
    "plt.plot(history.history['loss'], label='Train Loss')\n",
    "plt.plot(history.history['val_loss'], label='Validation Loss')\n",
    "plt.title('📉 Loss over Epochs')\n",
    "plt.xlabel('Epoch')\n",
    "plt.ylabel('Loss')\n",
    "plt.legend()\n",
    "\n",
    "plt.tight_layout()\n",
    "plt.show()\n"
   ]
  },
  {
   "cell_type": "markdown",
   "id": "9128324b",
   "metadata": {},
   "source": [
    "## Interpretation"
   ]
  },
  {
   "cell_type": "markdown",
   "id": "92b901c3",
   "metadata": {},
   "source": [
    "✅ Accuracy:\n",
    "\n",
    "- Training accuracy improves from ~48% to ~55%\n",
    "- Validation accuracy rises from ~49% to ~53.2%\n",
    "- Curves are close and parallel → minimal overfitting\n",
    "- Indicates stable generalization and consistent learning\n",
    "\n",
    "📉 Loss:\n",
    "\n",
    "- Training and validation loss decrease together until convergence\n",
    "- Final validation loss stabilizes ~1.15, while train loss continues improving slightly\n",
    "- No major gap or instability → no overfitting or underfitting symptoms\n",
    "\n",
    "🧠 Conclusion:\n",
    "\n",
    "The model is learning effectively and generalizing well to unseen data. Both training and validation metrics improve smoothly, with early stopping preserving the best weights. This outcome is strong for a lightweight LSTM with custom Word2Vec embeddings and no aggressive regularization or class balancing."
   ]
  },
  {
   "cell_type": "markdown",
   "id": "702330bd",
   "metadata": {},
   "source": [
    "# Confusion Matrix + Classification Report"
   ]
  },
  {
   "cell_type": "code",
   "execution_count": 21,
   "id": "7a7d0e97",
   "metadata": {},
   "outputs": [
    {
     "name": "stdout",
     "output_type": "stream",
     "text": [
      "Collecting seaborn\n",
      "  Using cached seaborn-0.13.2-py3-none-any.whl.metadata (5.4 kB)\n",
      "Requirement already satisfied: numpy!=1.24.0,>=1.20 in /Users/homecomputer/.pyenv/versions/3.10.6/envs/drug-analysis-review/lib/python3.10/site-packages (from seaborn) (1.24.4)\n",
      "Requirement already satisfied: pandas>=1.2 in /Users/homecomputer/.pyenv/versions/3.10.6/envs/drug-analysis-review/lib/python3.10/site-packages (from seaborn) (2.3.1)\n",
      "Requirement already satisfied: matplotlib!=3.6.1,>=3.4 in /Users/homecomputer/.pyenv/versions/3.10.6/envs/drug-analysis-review/lib/python3.10/site-packages (from seaborn) (3.10.5)\n",
      "Requirement already satisfied: contourpy>=1.0.1 in /Users/homecomputer/.pyenv/versions/3.10.6/envs/drug-analysis-review/lib/python3.10/site-packages (from matplotlib!=3.6.1,>=3.4->seaborn) (1.3.2)\n",
      "Requirement already satisfied: cycler>=0.10 in /Users/homecomputer/.pyenv/versions/3.10.6/envs/drug-analysis-review/lib/python3.10/site-packages (from matplotlib!=3.6.1,>=3.4->seaborn) (0.12.1)\n",
      "Requirement already satisfied: fonttools>=4.22.0 in /Users/homecomputer/.pyenv/versions/3.10.6/envs/drug-analysis-review/lib/python3.10/site-packages (from matplotlib!=3.6.1,>=3.4->seaborn) (4.59.0)\n",
      "Requirement already satisfied: kiwisolver>=1.3.1 in /Users/homecomputer/.pyenv/versions/3.10.6/envs/drug-analysis-review/lib/python3.10/site-packages (from matplotlib!=3.6.1,>=3.4->seaborn) (1.4.8)\n",
      "Requirement already satisfied: packaging>=20.0 in /Users/homecomputer/.pyenv/versions/3.10.6/envs/drug-analysis-review/lib/python3.10/site-packages (from matplotlib!=3.6.1,>=3.4->seaborn) (25.0)\n",
      "Requirement already satisfied: pillow>=8 in /Users/homecomputer/.pyenv/versions/3.10.6/envs/drug-analysis-review/lib/python3.10/site-packages (from matplotlib!=3.6.1,>=3.4->seaborn) (11.3.0)\n",
      "Requirement already satisfied: pyparsing>=2.3.1 in /Users/homecomputer/.pyenv/versions/3.10.6/envs/drug-analysis-review/lib/python3.10/site-packages (from matplotlib!=3.6.1,>=3.4->seaborn) (3.2.3)\n",
      "Requirement already satisfied: python-dateutil>=2.7 in /Users/homecomputer/.pyenv/versions/3.10.6/envs/drug-analysis-review/lib/python3.10/site-packages (from matplotlib!=3.6.1,>=3.4->seaborn) (2.9.0.post0)\n",
      "Requirement already satisfied: pytz>=2020.1 in /Users/homecomputer/.pyenv/versions/3.10.6/envs/drug-analysis-review/lib/python3.10/site-packages (from pandas>=1.2->seaborn) (2025.2)\n",
      "Requirement already satisfied: tzdata>=2022.7 in /Users/homecomputer/.pyenv/versions/3.10.6/envs/drug-analysis-review/lib/python3.10/site-packages (from pandas>=1.2->seaborn) (2025.2)\n",
      "Requirement already satisfied: six>=1.5 in /Users/homecomputer/.pyenv/versions/3.10.6/envs/drug-analysis-review/lib/python3.10/site-packages (from python-dateutil>=2.7->matplotlib!=3.6.1,>=3.4->seaborn) (1.17.0)\n",
      "Using cached seaborn-0.13.2-py3-none-any.whl (294 kB)\n",
      "Installing collected packages: seaborn\n",
      "Successfully installed seaborn-0.13.2\n"
     ]
    }
   ],
   "source": [
    "!pip install seaborn"
   ]
  },
  {
   "cell_type": "code",
   "execution_count": 22,
   "id": "589b3657",
   "metadata": {},
   "outputs": [
    {
     "name": "stdout",
     "output_type": "stream",
     "text": [
      "\u001b[1m2268/2268\u001b[0m \u001b[32m━━━━━━━━━━━━━━━━━━━━\u001b[0m\u001b[37m\u001b[0m \u001b[1m25s\u001b[0m 11ms/step\n",
      "📋 Classification Report:\n",
      "              precision    recall  f1-score   support\n",
      "\n",
      "           0      0.626     0.796     0.701     20216\n",
      "           1      0.392     0.053     0.093      7135\n",
      "           2      0.320     0.200     0.246     10370\n",
      "           3      0.362     0.193     0.252     12595\n",
      "           4      0.545     0.801     0.649     22236\n",
      "\n",
      "    accuracy                          0.535     72552\n",
      "   macro avg      0.449     0.409     0.388     72552\n",
      "weighted avg      0.489     0.535     0.482     72552\n",
      "\n"
     ]
    },
    {
     "data": {
      "image/png": "[encoded data removed]",
      "text/plain": [
       "<Figure size 600x500 with 2 Axes>"
      ]
     },
     "metadata": {},
     "output_type": "display_data"
    }
   ],
   "source": [
    "from sklearn.metrics import classification_report, confusion_matrix\n",
    "import seaborn as sns\n",
    "import numpy as np\n",
    "import matplotlib.pyplot as plt\n",
    "\n",
    "# 1. Get predictions on test set\n",
    "y_pred_probs = model.predict(X_test)\n",
    "y_pred = np.argmax(y_pred_probs, axis=1)\n",
    "y_true = np.argmax(y_test, axis=1)\n",
    "\n",
    "# 2. Classification report\n",
    "print(\"📋 Classification Report:\")\n",
    "print(classification_report(y_true, y_pred, digits=3))\n",
    "\n",
    "# 3. Confusion matrix\n",
    "cm = confusion_matrix(y_true, y_pred)\n",
    "\n",
    "# Optional: Normalize\n",
    "# cm = confusion_matrix(y_true, y_pred, normalize='true')\n",
    "\n",
    "# Define class labels\n",
    "labels = [\"Very Neg\", \"Slightly Neg\", \"Neutral\", \"Slightly Pos\", \"Very Pos\"]\n",
    "\n",
    "# 4. Plot confusion matrix\n",
    "plt.figure(figsize=(6, 5))\n",
    "sns.heatmap(cm, annot=True, fmt=\"d\", cmap=\"Blues\", cbar=True,\n",
    "            xticklabels=labels, yticklabels=labels)\n",
    "\n",
    "plt.xlabel(\"Predicted\")\n",
    "plt.ylabel(\"True\")\n",
    "plt.title(\"Confusion Matrix\")\n",
    "plt.tight_layout()\n",
    "plt.show()"
   ]
  },
  {
   "cell_type": "markdown",
   "id": "e85c5f90",
   "metadata": {},
   "source": [
    "## Interpretation"
   ]
  },
  {
   "cell_type": "markdown",
   "id": "5068c194",
   "metadata": {},
   "source": [
    "✅ Extremes (Very Negative & Very Positive):\n",
    "- High recall for Class 0 (0.79) and Class 4 (0.80)\n",
    "- Indicates strong ability to classify clear sentiment (low/high)\n",
    "\n",
    "🟧 Middle Scores (Slightly Negative to Slightly Positive):\n",
    "- Poor recall (as low as 0.05 for Class 1, 0.19 for Class 3)\n",
    "- Often confused with extreme classes → due to class imbalance and overlapping language\n",
    "\n",
    "📈 Overall Accuracy: 52.5%\n",
    "- Performance is stable and reflects good generalization\n",
    "- Model is lightweight and handles sentiment polarity well, with expected difficulty in ambiguous reviews\n",
    "\n",
    "🧠 Conclusion:\n",
    "- The model reliably detects clear sentiment but struggles with moderate ratings — a typical pattern in NLP sentiment tasks with imbalanced data."
   ]
  },
  {
   "cell_type": "markdown",
   "id": "f8a3b840",
   "metadata": {},
   "source": [
    "# Classification Report "
   ]
  },
  {
   "cell_type": "code",
   "execution_count": 23,
   "id": "7a50c796",
   "metadata": {},
   "outputs": [
    {
     "name": "stdout",
     "output_type": "stream",
     "text": [
      "\u001b[1m2268/2268\u001b[0m \u001b[32m━━━━━━━━━━━━━━━━━━━━\u001b[0m\u001b[37m\u001b[0m \u001b[1m24s\u001b[0m 11ms/step\n",
      "Classification Report:\n",
      "\n",
      "                   precision    recall  f1-score       support\n",
      "Very Negative       0.626328  0.795954  0.701026  20216.000000\n",
      "Slightly Negative   0.392300  0.052838  0.093132   7135.000000\n",
      "Neutral             0.319600  0.200482  0.246400  10370.000000\n",
      "Slightly Positive   0.362041  0.193251  0.251993  12595.000000\n",
      "Very Positive       0.545084  0.800908  0.648685  22236.000000\n",
      "accuracy            0.534651  0.534651  0.534651      0.534651\n",
      "macro avg           0.449071  0.408687  0.388247  72552.000000\n",
      "weighted avg        0.488692  0.534651  0.482270  72552.000000\n"
     ]
    }
   ],
   "source": [
    "from sklearn.metrics import classification_report\n",
    "import numpy as np\n",
    "import pandas as pd\n",
    "\n",
    "# 1. Predict class labels from test set\n",
    "y_pred_probs = model.predict(X_test)\n",
    "y_pred = np.argmax(y_pred_probs, axis=1)\n",
    "y_true = np.argmax(y_test, axis=1)\n",
    "\n",
    "# 2. Define human-readable class labels (optional but clearer)\n",
    "class_names = [\"Very Negative\", \"Slightly Negative\", \"Neutral\", \"Slightly Positive\", \"Very Positive\"]\n",
    "\n",
    "# 3. Generate classification report as dictionary\n",
    "report_dict = classification_report(y_true, y_pred, target_names=class_names, digits=3, output_dict=True)\n",
    "\n",
    "# 4. Convert to DataFrame for easier display or export\n",
    "report_df = pd.DataFrame(report_dict).transpose()\n",
    "\n",
    "# 5. Print readable version to console\n",
    "print(\"Classification Report:\\n\")\n",
    "print(report_df)\n",
    "\n",
    "# 6. Optional: Save to CSV\n",
    "# report_df.to_csv(\"classification_report.csv\", index=True)"
   ]
  },
  {
   "cell_type": "markdown",
   "id": "913516d5",
   "metadata": {},
   "source": [
    "## Interpretation"
   ]
  },
  {
   "cell_type": "markdown",
   "id": "e947e9b5",
   "metadata": {},
   "source": [
    "✅ Strong performance:\n",
    "\n",
    "- Class 1 (Very Negative) and Class 5 (Very Positive) are well predicted.\n",
    "  - Class 1: Precision = 0.63, Recall = 0.80\n",
    "  - Class 5: Recall = 0.80, F1 = 0.65\n",
    "→ Indicates good handling of emotionally polarized reviews.\n",
    "\n",
    "⚠️ Weak performance:\n",
    "\n",
    "- Class 2 (Slightly Negative): Very low recall (0.05) → Often missed.\n",
    "- Classes 3–4 (Neutral, Slightly Positive): Low precision/recall → Frequently confused with extreme classes (1 or 5).\n",
    "\n",
    "📊 Overall Metrics:\n",
    "\n",
    "- Accuracy: 53.5%\n",
    "- Macro F1: 0.39 → Performance imbalance across classes.\n",
    "- Weighted F1: 0.48 → Stronger on dominant classes.\n",
    "\n",
    "Conclusion:\n",
    "\n",
    "The model effectively identifies clear sentiment extremes but struggles with moderate satisfaction levels. This is a typical limitation when using imbalanced NLP data without specific class balancing or augmentation strategies. Still, results are promising for a lightweight Word2Vec + LSTM pipeline."
   ]
  },
  {
   "cell_type": "markdown",
   "id": "e0c3178d",
   "metadata": {},
   "source": [
    "# Live Review Prediction Function"
   ]
  },
  {
   "cell_type": "code",
   "execution_count": 27,
   "id": "85b2a4e1",
   "metadata": {},
   "outputs": [],
   "source": [
    "import re\n",
    "import numpy as np\n",
    "from tensorflow.keras.preprocessing.sequence import pad_sequences\n",
    "\n",
    "# Assume these are globally defined once\n",
    "from nltk.corpus import stopwords\n",
    "from nltk.tokenize import word_tokenize\n",
    "stop_words = set(stopwords.words('english'))\n",
    "\n",
    "# Function to preprocess + vectorize + predict\n",
    "def predict_satisfaction(review_text: str) -> tuple[int, float]:\n",
    "    # Preprocess\n",
    "    review = review_text.lower()\n",
    "    review = re.sub(r'[^a-z\\s]', '', review)\n",
    "    tokens = word_tokenize(review)\n",
    "    tokens = [lemmatizer.lemmatize(t) for t in tokens if t.isalpha() and t not in stop_words]\n",
    "\n",
    "    # Return early if no valid tokens\n",
    "    if not tokens:\n",
    "        return -1, 0.0  # or raise Exception(\"Invalid input\")\n",
    "\n",
    "    # Vectorize\n",
    "    vectors = [w2v_model.wv[t] if t in w2v_model.wv else zero_vector for t in tokens[:max_length]]\n",
    "    padded = pad_sequences([vectors], maxlen=max_length, dtype='float32', padding='post', truncating='post')\n",
    "\n",
    "    # Predict\n",
    "    pred = model.predict(padded, verbose=0)\n",
    "    predicted_class = int(np.argmax(pred) + 1)  # back to 1–5 scale\n",
    "    confidence = float(np.max(pred))\n",
    "\n",
    "    print(f\"🔍 Review: {review_text}\")\n",
    "    print(f\"🎯 Predicted Satisfaction: {predicted_class} (Confidence: {confidence:.2f})\")\n",
    "    return predicted_class, confidence\n"
   ]
  },
  {
   "cell_type": "code",
   "execution_count": 29,
   "id": "7ba66293",
   "metadata": {},
   "outputs": [
    {
     "name": "stdout",
     "output_type": "stream",
     "text": [
      "🔍 Review: This medication worked well for my anxiety but gave me headaches.\n",
      "🎯 Predicted Satisfaction: 5 (Confidence: 0.39)\n",
      "🔍 Review: I felt terrible after using it. Would not recommend.\n",
      "🎯 Predicted Satisfaction: 1 (Confidence: 0.89)\n",
      "🔍 Review: It was okay, not much change. No side effects either.\n",
      "🎯 Predicted Satisfaction: 3 (Confidence: 0.28)\n",
      "Review 1: Predicted Rating = 5, Confidence = 0.39\n",
      "Review 2: Predicted Rating = 1, Confidence = 0.89\n",
      "Review 3: Predicted Rating = 3, Confidence = 0.28\n"
     ]
    }
   ],
   "source": [
    "s1 = predict_satisfaction(\"This medication worked well for my anxiety but gave me headaches.\")\n",
    "s2 = predict_satisfaction(\"I felt terrible after using it. Would not recommend.\")\n",
    "s3 = predict_satisfaction(\"It was okay, not much change. No side effects either.\")\n",
    "\n",
    "# You can then print or log them all at once\n",
    "for i, (rating, confidence) in enumerate([s1, s2, s3], 1):\n",
    "    print(f\"Review {i}: Predicted Rating = {rating}, Confidence = {confidence:.2f}\")"
   ]
  },
  {
   "cell_type": "markdown",
   "id": "a74338ad",
   "metadata": {},
   "source": [
    "# Save your model and export key results"
   ]
  },
  {
   "cell_type": "markdown",
   "id": "bafbd22c",
   "metadata": {},
   "source": [
    "## Pickle File"
   ]
  },
  {
   "cell_type": "code",
   "execution_count": 30,
   "id": "cecc5dc0",
   "metadata": {},
   "outputs": [
    {
     "name": "stdout",
     "output_type": "stream",
     "text": [
      "Requirement already satisfied: joblib in /Users/homecomputer/.pyenv/versions/3.10.6/envs/drug-analysis-review/lib/python3.10/site-packages (1.5.1)\n"
     ]
    }
   ],
   "source": [
    "!pip install joblib"
   ]
  },
  {
   "cell_type": "code",
   "execution_count": 31,
   "id": "610f531c",
   "metadata": {},
   "outputs": [
    {
     "data": {
      "text/plain": [
       "['lstm_model.pkl']"
      ]
     },
     "execution_count": 31,
     "metadata": {},
     "output_type": "execute_result"
    }
   ],
   "source": [
    "import joblib\n",
    "\n",
    "# Save the model to a file\n",
    "joblib.dump(model, \"lstm_model.pkl\")"
   ]
  },
  {
   "cell_type": "markdown",
   "id": "248a085f",
   "metadata": {},
   "source": [
    "## Save Word2Vec model "
   ]
  },
  {
   "cell_type": "code",
   "execution_count": 34,
   "id": "66118fc3",
   "metadata": {},
   "outputs": [],
   "source": [
    "# Save Word2Vec model to disk\n",
    "w2v_model.save(\"w2v_model.bin\")"
   ]
  },
  {
   "cell_type": "markdown",
   "id": "6536f2f0",
   "metadata": {},
   "source": [
    "## Load the model back later"
   ]
  },
  {
   "cell_type": "code",
   "execution_count": 33,
   "id": "2f1c6cd2",
   "metadata": {},
   "outputs": [],
   "source": [
    "# Load LSTM model\n",
    "model = joblib.load(\"lstm_model.pkl\")\n",
    "\n",
    "# Load Word2Vec model\n",
    "from gensim.models import Word2Vec\n",
    "w2v_model = Word2Vec.load(\"w2v_model.bin\")"
   ]
  },
  {
   "cell_type": "markdown",
   "id": "5c78b931",
   "metadata": {},
   "source": [
    "## Save Architecture + Weights Separately (Preferred Keras Method)"
   ]
  },
  {
   "cell_type": "markdown",
   "id": "09d045da",
   "metadata": {},
   "source": [
    "### Save model architecture to JSON"
   ]
  },
  {
   "cell_type": "code",
   "execution_count": 35,
   "id": "682d49d9",
   "metadata": {},
   "outputs": [],
   "source": [
    "# Serialize model architecture to JSON\n",
    "model_json = model.to_json()\n",
    "with open(\"lstm_model_architecture.json\", \"w\") as json_file:\n",
    "    json_file.write(model_json)"
   ]
  },
  {
   "cell_type": "markdown",
   "id": "0e84a812",
   "metadata": {},
   "source": [
    "### Save model weights to HDF5"
   ]
  },
  {
   "cell_type": "code",
   "execution_count": 39,
   "id": "3e3b9e75",
   "metadata": {},
   "outputs": [],
   "source": [
    "# Save weights to HDF5\n",
    "model.save_weights(\"lstm_model.weights.h5\")\n"
   ]
  },
  {
   "cell_type": "markdown",
   "id": "d3e5ea14",
   "metadata": {},
   "source": [
    "# 🧠 Model's Core Capabilities"
   ]
  },
  {
   "cell_type": "markdown",
   "id": "4aa7738b",
   "metadata": {},
   "source": [
    "At its heart, this model is designed to:\n",
    "✅ Predict User Satisfaction from Drug Reviews\n",
    "\n",
    "It takes in a natural language drug review and returns a predicted satisfaction score on a scale from 1 (Very Negative) to 5 (Very Positive).\n",
    "✅ Interpret Review Sentiment Using Word Embeddings\n",
    "\n",
    "By leveraging a Word2Vec model trained on the review corpus, it understands nuanced user expressions beyond simple keywords, enabling context-aware predictions.\n",
    "✅ Classify Reviews in Real-Time\n",
    "\n",
    "It includes a live prediction function that can process, vectorize, and predict satisfaction for new, unseen reviews, making it ideal for interactive interfaces like customer feedback portals or healthcare tools."
   ]
  },
  {
   "cell_type": "markdown",
   "id": "676a9233",
   "metadata": {},
   "source": [
    "## 🧩 UI-Relevant Features for Development"
   ]
  },
  {
   "cell_type": "markdown",
   "id": "92661885",
   "metadata": {},
   "source": [
    "Feature 1: Live Satisfaction Prediction\n",
    "\n",
    "- What it does:\n",
    "  - Accepts a free-text drug review and returns:\n",
    "    - A predicted satisfaction score (1–5)\n",
    "    - A confidence score (probability associated with the prediction)\n",
    "\n",
    "- UI implications:\n",
    "  - Requires a text input field for the user to write or paste a review\n",
    "  - Displays:\n",
    "      - 🔢 Predicted satisfaction (1–5)\n",
    "      - 📊 Confidence percentage (e.g., “Confidence: 0.87”)\n",
    "    - Optionally, style the score as emojis, color codes, or stars 🌟\n",
    "\n",
    "- Available parameters/options:\n",
    "  - None required beyond the text input. However, optionally:\n",
    "  - Max length for input (handled internally, but can be shown as input limit to users)\n",
    "  - Language detection or validation could be added (not implemented in current model)"
   ]
  },
  {
   "cell_type": "markdown",
   "id": "eec8004e",
   "metadata": {},
   "source": [
    "Feature 2: Batch Evaluation from Dataset\n",
    "\n",
    "- What it does:\n",
    "  - Evaluates and classifies a dataset of multiple reviews (e.g., CSV with review column) for performance assessment or bulk labeling.\n",
    "\n",
    "- UI implications:\n",
    "    - Requires a file upload component (.csv format expected)\n",
    "    - Displays a table of:\n",
    "      - Input reviews\n",
    "      - Predicted satisfaction\n",
    "      - Confidence score\n",
    "      - May show a summary visualization: accuracy, confusion matrix, class distribution\n",
    "\n",
    "  - Available parameters/options:\n",
    "    - File type: .csv\n",
    "    - Required column: clean_review\n",
    "    - Optional limit on row processing (e.g., 10k reviews max)"
   ]
  },
  {
   "cell_type": "markdown",
   "id": "29967cd7",
   "metadata": {},
   "source": [
    "Feature 3: Model Explanation Visuals (Optional for Admins)\n",
    "\n",
    "- What it does:\n",
    "  - Displays plots of training accuracy, validation loss, confusion matrix, and classification metrics for model monitoring.\n",
    "\n",
    "- UI implications:\n",
    "  - Shown on a dashboard panel or report view\n",
    "  - Could include tabs:\n",
    "    - Training curve (accuracy/loss over epochs)\n",
    "    - Confusion matrix heatmap\n",
    "    - Classification report summary\n",
    "    - Consider download option as .png or .pdf\n",
    "\n",
    "- Available parameters/options:\n",
    "  - Epoch range selector (default full training)\n",
    "  - Toggle between normalized and raw confusion matrix (if added)"
   ]
  }
 ],
 "metadata": {
  "kernelspec": {
   "display_name": "drug-analysis-review",
   "language": "python",
   "name": "python3"
  },
  "language_info": {
   "codemirror_mode": {
    "name": "ipython",
    "version": 3
   },
   "file_extension": ".py",
   "mimetype": "text/x-python",
   "name": "python",
   "nbconvert_exporter": "python",
   "pygments_lexer": "ipython3",
   "version": "3.10.6"
  }
 },
 "nbformat": 4,
 "nbformat_minor": 5
}
