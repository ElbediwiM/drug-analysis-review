{
 "cells": [
  {
   "cell_type": "markdown",
   "id": "f2add3d7",
   "metadata": {},
   "source": []
  },
  {
   "cell_type": "markdown",
   "id": "41940d27",
   "metadata": {},
   "source": [
    "# Model 2.1 - Relate Review to Satisfaction"
   ]
  },
  {
   "cell_type": "markdown",
   "id": "a9003eaa",
   "metadata": {},
   "source": [
    "Goal 2.1 – Predict Satisfaction from Review Text\n",
    "\n",
    "In this version, we build a deep learning classification model to predict patient satisfaction ratings (1–5) based on free-text drug reviews from the WebMD dataset.\n",
    "\n",
    "Unlike transformer-based models, this approach uses custom-trained Word2Vec embeddings to represent patient reviews, followed by an LSTM neural network to capture the sequential structure of the text. This technique enables us to model semantic meaning and sentiment flow over time within reviews.\n",
    "\n",
    "Key steps include:\n",
    "\n",
    "- Preprocessing reviews (lowercasing, lemmatization, stopword removal, special character stripping)\n",
    "- Training a Word2Vec model on the cleaned corpus\n",
    "- Transforming reviews into padded sequences of embeddings\n",
    "- Training an LSTM classifier to predict satisfaction levels\n",
    "\n",
    "This model is applied across all drugs in the dataset, providing a scalable and interpretable alternative to large transformer-based methods, while still capturing meaningful patterns in patient language."
   ]
  },
  {
   "cell_type": "markdown",
   "id": "f8a0f57c",
   "metadata": {},
   "source": [
    "# Load and Preprocess the Data"
   ]
  },
  {
   "cell_type": "markdown",
   "id": "a32ac5a5",
   "metadata": {},
   "source": [
    "## Loading CSV"
   ]
  },
  {
   "cell_type": "code",
   "execution_count": 1,
   "id": "55303bf0",
   "metadata": {},
   "outputs": [
    {
     "name": "stdout",
     "output_type": "stream",
     "text": [
      "Requirement already satisfied: pandas in /Users/homecomputer/.pyenv/versions/3.10.6/envs/drug-analysis-review/lib/python3.10/site-packages (2.3.1)\n",
      "Requirement already satisfied: numpy>=1.22.4 in /Users/homecomputer/.pyenv/versions/3.10.6/envs/drug-analysis-review/lib/python3.10/site-packages (from pandas) (1.24.4)\n",
      "Requirement already satisfied: python-dateutil>=2.8.2 in /Users/homecomputer/.pyenv/versions/3.10.6/envs/drug-analysis-review/lib/python3.10/site-packages (from pandas) (2.9.0.post0)\n",
      "Requirement already satisfied: pytz>=2020.1 in /Users/homecomputer/.pyenv/versions/3.10.6/envs/drug-analysis-review/lib/python3.10/site-packages (from pandas) (2025.2)\n",
      "Requirement already satisfied: tzdata>=2022.7 in /Users/homecomputer/.pyenv/versions/3.10.6/envs/drug-analysis-review/lib/python3.10/site-packages (from pandas) (2025.2)\n",
      "Requirement already satisfied: six>=1.5 in /Users/homecomputer/.pyenv/versions/3.10.6/envs/drug-analysis-review/lib/python3.10/site-packages (from python-dateutil>=2.8.2->pandas) (1.17.0)\n"
     ]
    }
   ],
   "source": [
    "!pip install pandas"
   ]
  },
  {
   "cell_type": "code",
   "execution_count": 2,
   "id": "f57950fe",
   "metadata": {},
   "outputs": [
    {
     "data": {
      "text/html": [
       "<div>\n",
       "<style scoped>\n",
       "    .dataframe tbody tr th:only-of-type {\n",
       "        vertical-align: middle;\n",
       "    }\n",
       "\n",
       "    .dataframe tbody tr th {\n",
       "        vertical-align: top;\n",
       "    }\n",
       "\n",
       "    .dataframe thead th {\n",
       "        text-align: right;\n",
       "    }\n",
       "</style>\n",
       "<table border=\"1\" class=\"dataframe\">\n",
       "  <thead>\n",
       "    <tr style=\"text-align: right;\">\n",
       "      <th></th>\n",
       "      <th>Drug</th>\n",
       "      <th>Reviews</th>\n",
       "      <th>Satisfaction</th>\n",
       "    </tr>\n",
       "  </thead>\n",
       "  <tbody>\n",
       "    <tr>\n",
       "      <th>0</th>\n",
       "      <td>25dph-7.5peh</td>\n",
       "      <td>I'm a retired physician and of all the meds I ...</td>\n",
       "      <td>5</td>\n",
       "    </tr>\n",
       "    <tr>\n",
       "      <th>1</th>\n",
       "      <td>25dph-7.5peh</td>\n",
       "      <td>cleared me right up even with my throat hurtin...</td>\n",
       "      <td>5</td>\n",
       "    </tr>\n",
       "    <tr>\n",
       "      <th>2</th>\n",
       "      <td>warfarin (bulk) 100 % powder</td>\n",
       "      <td>why did my PTINR go from a normal of 2.5 to ov...</td>\n",
       "      <td>3</td>\n",
       "    </tr>\n",
       "    <tr>\n",
       "      <th>3</th>\n",
       "      <td>warfarin (bulk) 100 % powder</td>\n",
       "      <td>FALLING AND DON'T REALISE IT</td>\n",
       "      <td>1</td>\n",
       "    </tr>\n",
       "    <tr>\n",
       "      <th>4</th>\n",
       "      <td>warfarin (bulk) 100 % powder</td>\n",
       "      <td>My grandfather was prescribed this medication ...</td>\n",
       "      <td>1</td>\n",
       "    </tr>\n",
       "  </tbody>\n",
       "</table>\n",
       "</div>"
      ],
      "text/plain": [
       "                           Drug  \\\n",
       "0                  25dph-7.5peh   \n",
       "1                  25dph-7.5peh   \n",
       "2  warfarin (bulk) 100 % powder   \n",
       "3  warfarin (bulk) 100 % powder   \n",
       "4  warfarin (bulk) 100 % powder   \n",
       "\n",
       "                                             Reviews  Satisfaction  \n",
       "0  I'm a retired physician and of all the meds I ...             5  \n",
       "1  cleared me right up even with my throat hurtin...             5  \n",
       "2  why did my PTINR go from a normal of 2.5 to ov...             3  \n",
       "3                       FALLING AND DON'T REALISE IT             1  \n",
       "4  My grandfather was prescribed this medication ...             1  "
      ]
     },
     "execution_count": 2,
     "metadata": {},
     "output_type": "execute_result"
    }
   ],
   "source": [
    "import pandas as pd\n",
    "\n",
    "# Load CSV using your path\n",
    "df = pd.read_csv('/Users/homecomputer/code/ElbediwiM/drug-analysis-review/carmen_raw_data/webmd.csv')\n",
    "\n",
    "# Clean and prepare relevant columns\n",
    "df = df[['Drug', 'Reviews', 'Satisfaction']].dropna()\n",
    "df['Satisfaction'] = df['Satisfaction'].astype(int)\n",
    "\n",
    "df.head()"
   ]
  },
  {
   "cell_type": "markdown",
   "id": "9a8de79a",
   "metadata": {},
   "source": [
    "## Preprocessing"
   ]
  },
  {
   "cell_type": "code",
   "execution_count": 3,
   "id": "9cb733f2",
   "metadata": {},
   "outputs": [
    {
     "name": "stdout",
     "output_type": "stream",
     "text": [
      "Requirement already satisfied: nltk in /Users/homecomputer/.pyenv/versions/3.10.6/envs/drug-analysis-review/lib/python3.10/site-packages (3.9.1)\n",
      "Requirement already satisfied: click in /Users/homecomputer/.pyenv/versions/3.10.6/envs/drug-analysis-review/lib/python3.10/site-packages (from nltk) (8.2.1)\n",
      "Requirement already satisfied: joblib in /Users/homecomputer/.pyenv/versions/3.10.6/envs/drug-analysis-review/lib/python3.10/site-packages (from nltk) (1.5.1)\n",
      "Requirement already satisfied: regex>=2021.8.3 in /Users/homecomputer/.pyenv/versions/3.10.6/envs/drug-analysis-review/lib/python3.10/site-packages (from nltk) (2025.7.34)\n",
      "Requirement already satisfied: tqdm in /Users/homecomputer/.pyenv/versions/3.10.6/envs/drug-analysis-review/lib/python3.10/site-packages (from nltk) (4.67.1)\n"
     ]
    }
   ],
   "source": [
    "!pip install nltk"
   ]
  },
  {
   "cell_type": "code",
   "execution_count": 4,
   "id": "d911704b",
   "metadata": {},
   "outputs": [
    {
     "name": "stdout",
     "output_type": "stream",
     "text": [
      "Requirement already satisfied: pip in /Users/homecomputer/.pyenv/versions/3.10.6/envs/drug-analysis-review/lib/python3.10/site-packages (25.2)\n"
     ]
    }
   ],
   "source": [
    "!pip install --upgrade pip"
   ]
  },
  {
   "cell_type": "code",
   "execution_count": 5,
   "id": "13d50b9c",
   "metadata": {},
   "outputs": [
    {
     "name": "stderr",
     "output_type": "stream",
     "text": [
      "[nltk_data] Downloading package punkt to\n",
      "[nltk_data]     /Users/homecomputer/nltk_data...\n",
      "[nltk_data]   Package punkt is already up-to-date!\n",
      "[nltk_data] Downloading package stopwords to\n",
      "[nltk_data]     /Users/homecomputer/nltk_data...\n",
      "[nltk_data]   Package stopwords is already up-to-date!\n",
      "[nltk_data] Downloading package wordnet to\n",
      "[nltk_data]     /Users/homecomputer/nltk_data...\n",
      "[nltk_data]   Package wordnet is already up-to-date!\n",
      "[nltk_data] Downloading package omw-1.4 to\n",
      "[nltk_data]     /Users/homecomputer/nltk_data...\n",
      "[nltk_data]   Package omw-1.4 is already up-to-date!\n",
      "100%|██████████| 362763/362763 [02:46<00:00, 2182.71it/s]\n"
     ]
    },
    {
     "data": {
      "text/html": [
       "<div>\n",
       "<style scoped>\n",
       "    .dataframe tbody tr th:only-of-type {\n",
       "        vertical-align: middle;\n",
       "    }\n",
       "\n",
       "    .dataframe tbody tr th {\n",
       "        vertical-align: top;\n",
       "    }\n",
       "\n",
       "    .dataframe thead th {\n",
       "        text-align: right;\n",
       "    }\n",
       "</style>\n",
       "<table border=\"1\" class=\"dataframe\">\n",
       "  <thead>\n",
       "    <tr style=\"text-align: right;\">\n",
       "      <th></th>\n",
       "      <th>Drug</th>\n",
       "      <th>Reviews</th>\n",
       "      <th>clean_review</th>\n",
       "    </tr>\n",
       "  </thead>\n",
       "  <tbody>\n",
       "    <tr>\n",
       "      <th>0</th>\n",
       "      <td>25dph-7.5peh</td>\n",
       "      <td>I'm a retired physician and of all the meds I ...</td>\n",
       "      <td>dphpeh im retired physician med tried allergy ...</td>\n",
       "    </tr>\n",
       "    <tr>\n",
       "      <th>1</th>\n",
       "      <td>25dph-7.5peh</td>\n",
       "      <td>cleared me right up even with my throat hurtin...</td>\n",
       "      <td>dphpeh cleared right even throat hurting went ...</td>\n",
       "    </tr>\n",
       "    <tr>\n",
       "      <th>2</th>\n",
       "      <td>warfarin (bulk) 100 % powder</td>\n",
       "      <td>why did my PTINR go from a normal of 2.5 to ov...</td>\n",
       "      <td>warfarin bulk powder ptinr go normal</td>\n",
       "    </tr>\n",
       "    <tr>\n",
       "      <th>3</th>\n",
       "      <td>warfarin (bulk) 100 % powder</td>\n",
       "      <td>FALLING AND DON'T REALISE IT</td>\n",
       "      <td>warfarin bulk powder falling dont realise</td>\n",
       "    </tr>\n",
       "    <tr>\n",
       "      <th>4</th>\n",
       "      <td>warfarin (bulk) 100 % powder</td>\n",
       "      <td>My grandfather was prescribed this medication ...</td>\n",
       "      <td>warfarin bulk powder grandfather prescribed me...</td>\n",
       "    </tr>\n",
       "  </tbody>\n",
       "</table>\n",
       "</div>"
      ],
      "text/plain": [
       "                           Drug  \\\n",
       "0                  25dph-7.5peh   \n",
       "1                  25dph-7.5peh   \n",
       "2  warfarin (bulk) 100 % powder   \n",
       "3  warfarin (bulk) 100 % powder   \n",
       "4  warfarin (bulk) 100 % powder   \n",
       "\n",
       "                                             Reviews  \\\n",
       "0  I'm a retired physician and of all the meds I ...   \n",
       "1  cleared me right up even with my throat hurtin...   \n",
       "2  why did my PTINR go from a normal of 2.5 to ov...   \n",
       "3                       FALLING AND DON'T REALISE IT   \n",
       "4  My grandfather was prescribed this medication ...   \n",
       "\n",
       "                                        clean_review  \n",
       "0  dphpeh im retired physician med tried allergy ...  \n",
       "1  dphpeh cleared right even throat hurting went ...  \n",
       "2               warfarin bulk powder ptinr go normal  \n",
       "3          warfarin bulk powder falling dont realise  \n",
       "4  warfarin bulk powder grandfather prescribed me...  "
      ]
     },
     "execution_count": 5,
     "metadata": {},
     "output_type": "execute_result"
    }
   ],
   "source": [
    "import re\n",
    "import nltk\n",
    "import pandas as pd\n",
    "from nltk.corpus import stopwords\n",
    "from nltk.stem import WordNetLemmatizer\n",
    "from tqdm import tqdm\n",
    "\n",
    "# One-time downloads\n",
    "nltk.download('punkt')\n",
    "nltk.download('stopwords')\n",
    "nltk.download('wordnet')\n",
    "nltk.download('omw-1.4')\n",
    "\n",
    "# Tools\n",
    "stop_words = set(stopwords.words('english'))\n",
    "lemmatizer = WordNetLemmatizer()\n",
    "\n",
    "# 🚀 Preprocessing function (drug + review)\n",
    "def preprocess_text(drug, review):\n",
    "    text = f\"{drug} {review}\".lower()\n",
    "    text = re.sub(r'[^a-z\\s]', '', text)\n",
    "    tokens = nltk.word_tokenize(text)\n",
    "    tokens = [lemmatizer.lemmatize(t) for t in tokens if t not in stop_words and t.isalpha()]\n",
    "    return \" \".join(tokens)\n",
    "\n",
    "# ✅ Apply preprocessing with tqdm\n",
    "tqdm.pandas()\n",
    "df['clean_review'] = df.progress_apply(lambda row: preprocess_text(row['Drug'], row['Reviews']), axis=1)\n",
    "\n",
    "# ✅ Preview\n",
    "df[['Drug', 'Reviews', 'clean_review']].head()"
   ]
  },
  {
   "cell_type": "markdown",
   "id": "f0bfac32",
   "metadata": {},
   "source": [
    "# Token to Vector Sequences + Padding"
   ]
  },
  {
   "cell_type": "code",
   "execution_count": 6,
   "id": "a068ecca",
   "metadata": {},
   "outputs": [
    {
     "name": "stdout",
     "output_type": "stream",
     "text": [
      "Requirement already satisfied: tensorflow in /Users/homecomputer/.pyenv/versions/3.10.6/envs/drug-analysis-review/lib/python3.10/site-packages (2.16.2)\n",
      "Requirement already satisfied: absl-py>=1.0.0 in /Users/homecomputer/.pyenv/versions/3.10.6/envs/drug-analysis-review/lib/python3.10/site-packages (from tensorflow) (2.3.1)\n",
      "Requirement already satisfied: astunparse>=1.6.0 in /Users/homecomputer/.pyenv/versions/3.10.6/envs/drug-analysis-review/lib/python3.10/site-packages (from tensorflow) (1.6.3)\n",
      "Requirement already satisfied: flatbuffers>=23.5.26 in /Users/homecomputer/.pyenv/versions/3.10.6/envs/drug-analysis-review/lib/python3.10/site-packages (from tensorflow) (25.2.10)\n",
      "Requirement already satisfied: gast!=0.5.0,!=0.5.1,!=0.5.2,>=0.2.1 in /Users/homecomputer/.pyenv/versions/3.10.6/envs/drug-analysis-review/lib/python3.10/site-packages (from tensorflow) (0.6.0)\n",
      "Requirement already satisfied: google-pasta>=0.1.1 in /Users/homecomputer/.pyenv/versions/3.10.6/envs/drug-analysis-review/lib/python3.10/site-packages (from tensorflow) (0.2.0)\n",
      "Requirement already satisfied: h5py>=3.10.0 in /Users/homecomputer/.pyenv/versions/3.10.6/envs/drug-analysis-review/lib/python3.10/site-packages (from tensorflow) (3.14.0)\n",
      "Requirement already satisfied: libclang>=13.0.0 in /Users/homecomputer/.pyenv/versions/3.10.6/envs/drug-analysis-review/lib/python3.10/site-packages (from tensorflow) (18.1.1)\n",
      "Requirement already satisfied: ml-dtypes~=0.3.1 in /Users/homecomputer/.pyenv/versions/3.10.6/envs/drug-analysis-review/lib/python3.10/site-packages (from tensorflow) (0.3.2)\n",
      "Requirement already satisfied: opt-einsum>=2.3.2 in /Users/homecomputer/.pyenv/versions/3.10.6/envs/drug-analysis-review/lib/python3.10/site-packages (from tensorflow) (3.4.0)\n",
      "Requirement already satisfied: packaging in /Users/homecomputer/.pyenv/versions/3.10.6/envs/drug-analysis-review/lib/python3.10/site-packages (from tensorflow) (25.0)\n",
      "Requirement already satisfied: protobuf!=4.21.0,!=4.21.1,!=4.21.2,!=4.21.3,!=4.21.4,!=4.21.5,<5.0.0dev,>=3.20.3 in /Users/homecomputer/.pyenv/versions/3.10.6/envs/drug-analysis-review/lib/python3.10/site-packages (from tensorflow) (4.25.8)\n",
      "Requirement already satisfied: requests<3,>=2.21.0 in /Users/homecomputer/.pyenv/versions/3.10.6/envs/drug-analysis-review/lib/python3.10/site-packages (from tensorflow) (2.32.4)\n",
      "Requirement already satisfied: setuptools in /Users/homecomputer/.pyenv/versions/3.10.6/envs/drug-analysis-review/lib/python3.10/site-packages (from tensorflow) (63.2.0)\n",
      "Requirement already satisfied: six>=1.12.0 in /Users/homecomputer/.pyenv/versions/3.10.6/envs/drug-analysis-review/lib/python3.10/site-packages (from tensorflow) (1.17.0)\n",
      "Requirement already satisfied: termcolor>=1.1.0 in /Users/homecomputer/.pyenv/versions/3.10.6/envs/drug-analysis-review/lib/python3.10/site-packages (from tensorflow) (3.1.0)\n",
      "Requirement already satisfied: typing-extensions>=3.6.6 in /Users/homecomputer/.pyenv/versions/3.10.6/envs/drug-analysis-review/lib/python3.10/site-packages (from tensorflow) (4.14.1)\n",
      "Requirement already satisfied: wrapt>=1.11.0 in /Users/homecomputer/.pyenv/versions/3.10.6/envs/drug-analysis-review/lib/python3.10/site-packages (from tensorflow) (1.17.2)\n",
      "Requirement already satisfied: grpcio<2.0,>=1.24.3 in /Users/homecomputer/.pyenv/versions/3.10.6/envs/drug-analysis-review/lib/python3.10/site-packages (from tensorflow) (1.74.0)\n",
      "Requirement already satisfied: tensorboard<2.17,>=2.16 in /Users/homecomputer/.pyenv/versions/3.10.6/envs/drug-analysis-review/lib/python3.10/site-packages (from tensorflow) (2.16.2)\n",
      "Requirement already satisfied: keras>=3.0.0 in /Users/homecomputer/.pyenv/versions/3.10.6/envs/drug-analysis-review/lib/python3.10/site-packages (from tensorflow) (3.11.0)\n",
      "Requirement already satisfied: tensorflow-io-gcs-filesystem>=0.23.1 in /Users/homecomputer/.pyenv/versions/3.10.6/envs/drug-analysis-review/lib/python3.10/site-packages (from tensorflow) (0.37.1)\n",
      "Requirement already satisfied: numpy<2.0.0,>=1.23.5 in /Users/homecomputer/.pyenv/versions/3.10.6/envs/drug-analysis-review/lib/python3.10/site-packages (from tensorflow) (1.24.4)\n",
      "Requirement already satisfied: charset_normalizer<4,>=2 in /Users/homecomputer/.pyenv/versions/3.10.6/envs/drug-analysis-review/lib/python3.10/site-packages (from requests<3,>=2.21.0->tensorflow) (3.4.2)\n",
      "Requirement already satisfied: idna<4,>=2.5 in /Users/homecomputer/.pyenv/versions/3.10.6/envs/drug-analysis-review/lib/python3.10/site-packages (from requests<3,>=2.21.0->tensorflow) (3.10)\n",
      "Requirement already satisfied: urllib3<3,>=1.21.1 in /Users/homecomputer/.pyenv/versions/3.10.6/envs/drug-analysis-review/lib/python3.10/site-packages (from requests<3,>=2.21.0->tensorflow) (2.5.0)\n",
      "Requirement already satisfied: certifi>=2017.4.17 in /Users/homecomputer/.pyenv/versions/3.10.6/envs/drug-analysis-review/lib/python3.10/site-packages (from requests<3,>=2.21.0->tensorflow) (2025.7.14)\n",
      "Requirement already satisfied: markdown>=2.6.8 in /Users/homecomputer/.pyenv/versions/3.10.6/envs/drug-analysis-review/lib/python3.10/site-packages (from tensorboard<2.17,>=2.16->tensorflow) (3.8.2)\n",
      "Requirement already satisfied: tensorboard-data-server<0.8.0,>=0.7.0 in /Users/homecomputer/.pyenv/versions/3.10.6/envs/drug-analysis-review/lib/python3.10/site-packages (from tensorboard<2.17,>=2.16->tensorflow) (0.7.2)\n",
      "Requirement already satisfied: werkzeug>=1.0.1 in /Users/homecomputer/.pyenv/versions/3.10.6/envs/drug-analysis-review/lib/python3.10/site-packages (from tensorboard<2.17,>=2.16->tensorflow) (3.1.3)\n",
      "Requirement already satisfied: wheel<1.0,>=0.23.0 in /Users/homecomputer/.pyenv/versions/3.10.6/envs/drug-analysis-review/lib/python3.10/site-packages (from astunparse>=1.6.0->tensorflow) (0.45.1)\n",
      "Requirement already satisfied: rich in /Users/homecomputer/.pyenv/versions/3.10.6/envs/drug-analysis-review/lib/python3.10/site-packages (from keras>=3.0.0->tensorflow) (14.1.0)\n",
      "Requirement already satisfied: namex in /Users/homecomputer/.pyenv/versions/3.10.6/envs/drug-analysis-review/lib/python3.10/site-packages (from keras>=3.0.0->tensorflow) (0.1.0)\n",
      "Requirement already satisfied: optree in /Users/homecomputer/.pyenv/versions/3.10.6/envs/drug-analysis-review/lib/python3.10/site-packages (from keras>=3.0.0->tensorflow) (0.17.0)\n",
      "Requirement already satisfied: MarkupSafe>=2.1.1 in /Users/homecomputer/.pyenv/versions/3.10.6/envs/drug-analysis-review/lib/python3.10/site-packages (from werkzeug>=1.0.1->tensorboard<2.17,>=2.16->tensorflow) (3.0.2)\n",
      "Requirement already satisfied: markdown-it-py>=2.2.0 in /Users/homecomputer/.pyenv/versions/3.10.6/envs/drug-analysis-review/lib/python3.10/site-packages (from rich->keras>=3.0.0->tensorflow) (3.0.0)\n",
      "Requirement already satisfied: pygments<3.0.0,>=2.13.0 in /Users/homecomputer/.pyenv/versions/3.10.6/envs/drug-analysis-review/lib/python3.10/site-packages (from rich->keras>=3.0.0->tensorflow) (2.19.2)\n",
      "Requirement already satisfied: mdurl~=0.1 in /Users/homecomputer/.pyenv/versions/3.10.6/envs/drug-analysis-review/lib/python3.10/site-packages (from markdown-it-py>=2.2.0->rich->keras>=3.0.0->tensorflow) (0.1.2)\n"
     ]
    }
   ],
   "source": [
    "!pip install tensorflow"
   ]
  },
  {
   "cell_type": "code",
   "execution_count": 7,
   "id": "c26040a1",
   "metadata": {},
   "outputs": [
    {
     "name": "stdout",
     "output_type": "stream",
     "text": [
      "Requirement already satisfied: gensim in /Users/homecomputer/.pyenv/versions/3.10.6/envs/drug-analysis-review/lib/python3.10/site-packages (4.3.3)\n",
      "Requirement already satisfied: numpy<2.0,>=1.18.5 in /Users/homecomputer/.pyenv/versions/3.10.6/envs/drug-analysis-review/lib/python3.10/site-packages (from gensim) (1.24.4)\n",
      "Requirement already satisfied: scipy<1.14.0,>=1.7.0 in /Users/homecomputer/.pyenv/versions/3.10.6/envs/drug-analysis-review/lib/python3.10/site-packages (from gensim) (1.13.1)\n",
      "Requirement already satisfied: smart-open>=1.8.1 in /Users/homecomputer/.pyenv/versions/3.10.6/envs/drug-analysis-review/lib/python3.10/site-packages (from gensim) (7.3.0.post1)\n",
      "Requirement already satisfied: wrapt in /Users/homecomputer/.pyenv/versions/3.10.6/envs/drug-analysis-review/lib/python3.10/site-packages (from smart-open>=1.8.1->gensim) (1.17.2)\n"
     ]
    }
   ],
   "source": [
    "#  library that provides the Word2Vec model, to be used to convert reviews into vector representations of words.\n",
    "!pip install gensim"
   ]
  },
  {
   "cell_type": "code",
   "execution_count": 8,
   "id": "6391fca2",
   "metadata": {},
   "outputs": [
    {
     "name": "stdout",
     "output_type": "stream",
     "text": [
      "Requirement already satisfied: numpy==1.24.4 in /Users/homecomputer/.pyenv/versions/3.10.6/envs/drug-analysis-review/lib/python3.10/site-packages (1.24.4)\n"
     ]
    }
   ],
   "source": [
    "!pip install numpy==1.24.4"
   ]
  },
  {
   "cell_type": "code",
   "execution_count": 9,
   "id": "daa28b2a",
   "metadata": {},
   "outputs": [],
   "source": [
    "from gensim.models import Word2Vec\n",
    "\n",
    "# Tokenize cleaned reviews into lists of words\n",
    "sentences = [review.split() for review in df['clean_review']]\n",
    "\n",
    "# Train Word2Vec model (lightweight settings)\n",
    "w2v_model = Word2Vec(sentences=sentences,\n",
    "                     vector_size=100,\n",
    "                     window=5,\n",
    "                     min_count=2,\n",
    "                     workers=4,\n",
    "                     sg=1)"
   ]
  },
  {
   "cell_type": "code",
   "execution_count": 11,
   "id": "97041416",
   "metadata": {},
   "outputs": [],
   "source": [
    "# Convert Reviews to Vector Sequences\n",
    "# -------------------------------------\n",
    "# Tokenize, embed with Word2Vec, pad to uniform shape, and prepare target labels\n",
    "\n",
    "import numpy as np\n",
    "from tensorflow.keras.preprocessing.sequence import pad_sequences\n",
    "\n",
    "# Define parameters\n",
    "embedding_dim = 100\n",
    "max_length = 100  # Limit sequence length\n",
    "vocab = w2v_model.wv\n",
    "zero_vector = np.zeros(embedding_dim)  # Used to pad or replace unknown tokens\n",
    "\n",
    "# Function to convert one review to a list of vectors\n",
    "def review_to_vector_sequence(tokens):\n",
    "    return [vocab[t] if t in vocab else zero_vector for t in tokens[:max_length]]\n",
    "\n",
    "# Tokenize + vectorize using pandas (faster than list comprehension)\n",
    "tokenized = df['clean_review'].str.split()\n",
    "sequences = tokenized.apply(review_to_vector_sequence).tolist()\n",
    "\n",
    "# Pad sequences to uniform length\n",
    "padded_sequences = pad_sequences(sequences, maxlen=max_length, dtype='float32',\n",
    "                                 padding='post', truncating='post')\n",
    "\n",
    "# Convert satisfaction to zero-based integer classes [0–4]\n",
    "labels = df['Satisfaction'] - 1"
   ]
  },
  {
   "cell_type": "markdown",
   "id": "8688880c",
   "metadata": {},
   "source": [
    "# Build and Train the LSTM Model "
   ]
  },
  {
   "cell_type": "code",
   "execution_count": null,
   "id": "349afb91",
   "metadata": {},
   "outputs": [
    {
     "name": "stderr",
     "output_type": "stream",
     "text": [
      "/Users/homecomputer/.pyenv/versions/3.10.6/envs/project_name/lib/python3.10/site-packages/keras/src/layers/core/masking.py:48: UserWarning: Do not pass an `input_shape`/`input_dim` argument to a layer. When using Sequential models, prefer using an `Input(shape)` object as the first layer in the model instead.\n",
      "  super().__init__(**kwargs)\n"
     ]
    },
    {
     "name": "stdout",
     "output_type": "stream",
     "text": [
      "Epoch 1/5\n",
      "\u001b[1m8163/8163\u001b[0m \u001b[32m━━━━━━━━━━━━━━━━━━━━\u001b[0m\u001b[37m\u001b[0m \u001b[1m334s\u001b[0m 40ms/step - accuracy: 0.4829 - loss: 1.2777 - val_accuracy: 0.4983 - val_loss: 1.2348\n",
      "Epoch 2/5\n",
      "\u001b[1m8163/8163\u001b[0m \u001b[32m━━━━━━━━━━━━━━━━━━━━\u001b[0m\u001b[37m\u001b[0m \u001b[1m315s\u001b[0m 39ms/step - accuracy: 0.5073 - loss: 1.2119 - val_accuracy: 0.5148 - val_loss: 1.1965\n",
      "Epoch 3/5\n",
      "\u001b[1m8163/8163\u001b[0m \u001b[32m━━━━━━━━━━━━━━━━━━━━\u001b[0m\u001b[37m\u001b[0m \u001b[1m272s\u001b[0m 33ms/step - accuracy: 0.5181 - loss: 1.1861 - val_accuracy: 0.5189 - val_loss: 1.1829\n",
      "Epoch 4/5\n",
      "\u001b[1m8163/8163\u001b[0m \u001b[32m━━━━━━━━━━━━━━━━━━━━\u001b[0m\u001b[37m\u001b[0m \u001b[1m278s\u001b[0m 34ms/step - accuracy: 0.5236 - loss: 1.1699 - val_accuracy: 0.5224 - val_loss: 1.1771\n",
      "Epoch 5/5\n",
      "\u001b[1m8163/8163\u001b[0m \u001b[32m━━━━━━━━━━━━━━━━━━━━\u001b[0m\u001b[37m\u001b[0m \u001b[1m301s\u001b[0m 37ms/step - accuracy: 0.5285 - loss: 1.1572 - val_accuracy: 0.5254 - val_loss: 1.1684\n"
     ]
    }
   ],
   "source": [
    "# 1. Filter out invalid satisfaction scores\n",
    "df = df[df['Satisfaction'].between(1, 5)]\n",
    "\n",
    "# 2. Recompute labels from the filtered dataset\n",
    "labels = df['Satisfaction'] - 1  # Now range is [0–4]\n",
    "\n",
    "# 3. Recompute padded sequences from filtered reviews\n",
    "sentences = [review.split() for review in df['clean_review']]\n",
    "sequences = [ [w2v_model.wv[t] if t in w2v_model.wv else zero_vector for t in tokens[:max_length]] for tokens in sentences]\n",
    "padded_sequences = pad_sequences(sequences, maxlen=max_length, dtype='float32', padding='post', truncating='post')\n",
    "\n",
    "# 4. One-hot encode labels\n",
    "from tensorflow.keras.utils import to_categorical\n",
    "y = to_categorical(labels, num_classes=5)\n",
    "\n",
    "# 5. Train-test split\n",
    "from sklearn.model_selection import train_test_split\n",
    "X_train, X_test, y_train, y_test = train_test_split(padded_sequences, y, test_size=0.2, random_state=42)\n",
    "\n",
    "# 6. Define lightweight LSTM model\n",
    "from tensorflow.keras.models import Sequential\n",
    "from tensorflow.keras.layers import LSTM, Dense, Masking\n",
    "\n",
    "model = Sequential([\n",
    "    Masking(mask_value=0., input_shape=(max_length, embedding_dim)),  # Skip zero-padding\n",
    "    LSTM(32),                                                         # Small LSTM\n",
    "    Dense(5, activation='softmax')                                    # 5-class output\n",
    "])\n",
    "\n",
    "# 7. Compile model\n",
    "model.compile(optimizer='adam',\n",
    "              loss='categorical_crossentropy',\n",
    "              metrics=['accuracy'])\n",
    "\n",
    "# 8. Train model\n",
    "history = model.fit(X_train, y_train,\n",
    "                    epochs=5,\n",
    "                    batch_size=32,\n",
    "                    validation_split=0.1)"
   ]
  },
  {
   "cell_type": "markdown",
   "id": "1af95a44",
   "metadata": {},
   "source": [
    "# Evaluate & Plot Training History"
   ]
  },
  {
   "cell_type": "code",
   "execution_count": null,
   "id": "80bbc098",
   "metadata": {},
   "outputs": [
    {
     "name": "stdout",
     "output_type": "stream",
     "text": [
      "Test Accuracy: 0.5247\n",
      "Test Loss: 1.1665\n"
     ]
    },
    {
     "data": {
      "image/png": "[encoded data removed]",
      "text/plain": [
       "<Figure size 1200x400 with 2 Axes>"
      ]
     },
     "metadata": {},
     "output_type": "display_data"
    }
   ],
   "source": [
    "import matplotlib.pyplot as plt\n",
    "\n",
    "# 1. Evaluate on test set\n",
    "test_loss, test_acc = model.evaluate(X_test, y_test, verbose=0)\n",
    "print(f\"Test Accuracy: {test_acc:.4f}\")\n",
    "print(f\"Test Loss: {test_loss:.4f}\")\n",
    "\n",
    "# 2. Plot accuracy & loss curves\n",
    "plt.figure(figsize=(12, 4))\n",
    "\n",
    "# Accuracy\n",
    "plt.subplot(1, 2, 1)\n",
    "plt.plot(history.history['accuracy'], label='Train Acc')\n",
    "plt.plot(history.history['val_accuracy'], label='Val Acc')\n",
    "plt.title('Accuracy over Epochs')\n",
    "plt.xlabel('Epoch')\n",
    "plt.ylabel('Accuracy')\n",
    "plt.legend()\n",
    "\n",
    "# Loss\n",
    "plt.subplot(1, 2, 2)\n",
    "plt.plot(history.history['loss'], label='Train Loss')\n",
    "plt.plot(history.history['val_loss'], label='Val Loss')\n",
    "plt.title('Loss over Epochs')\n",
    "plt.xlabel('Epoch')\n",
    "plt.ylabel('Loss')\n",
    "plt.legend()\n",
    "\n",
    "plt.tight_layout()\n",
    "plt.show()"
   ]
  },
  {
   "cell_type": "markdown",
   "id": "9128324b",
   "metadata": {},
   "source": [
    "## Interpretation"
   ]
  },
  {
   "cell_type": "markdown",
   "id": "92b901c3",
   "metadata": {},
   "source": [
    "📈 Training History – Interpretation\n",
    "\n",
    "✅ Accuracy:\n",
    "- Train and validation accuracy steadily improve from ~48% to ~52.5%\n",
    "- Lines are close → minimal overfitting\n",
    "- Indicates stable learning and generalization\n",
    "\n",
    "📉 Loss:\n",
    "- Both training and validation loss decrease consistently\n",
    "- Final loss stabilizes around 1.16 → convergence achieved\n",
    "- No sign of divergence or instability\n",
    "\n",
    "🧠 Conclusion:\n",
    "The model is learning effectively and generalizes well.\n",
    "Performance is consistent across train and validation sets, which is a strong result for a lightweight LSTM using custom Word2Vec embeddings.\n",
    "´´´"
   ]
  },
  {
   "cell_type": "markdown",
   "id": "702330bd",
   "metadata": {},
   "source": [
    "# Confusion Matrix + Classification Report"
   ]
  },
  {
   "cell_type": "code",
   "execution_count": null,
   "id": "589b3657",
   "metadata": {},
   "outputs": [
    {
     "name": "stdout",
     "output_type": "stream",
     "text": [
      "\u001b[1m2268/2268\u001b[0m \u001b[32m━━━━━━━━━━━━━━━━━━━━\u001b[0m\u001b[37m\u001b[0m \u001b[1m21s\u001b[0m 9ms/step\n",
      "Classification Report:\n",
      "              precision    recall  f1-score   support\n",
      "\n",
      "           0      0.603     0.791     0.685     20216\n",
      "           1      0.527     0.021     0.040      7135\n",
      "           2      0.310     0.206     0.248     10370\n",
      "           3      0.381     0.110     0.170     12595\n",
      "           4      0.523     0.828     0.641     22236\n",
      "\n",
      "    accuracy                          0.525     72552\n",
      "   macro avg      0.469     0.391     0.357     72552\n",
      "weighted avg      0.490     0.525     0.456     72552\n",
      "\n"
     ]
    },
    {
     "data": {
      "image/png": "[encoded data removed]",
      "text/plain": [
       "<Figure size 600x500 with 2 Axes>"
      ]
     },
     "metadata": {},
     "output_type": "display_data"
    }
   ],
   "source": [
    "from sklearn.metrics import classification_report, confusion_matrix\n",
    "import seaborn as sns\n",
    "import numpy as np\n",
    "\n",
    "# 1. Get predictions on test set\n",
    "y_pred_probs = model.predict(X_test)\n",
    "y_pred = np.argmax(y_pred_probs, axis=1)\n",
    "y_true = np.argmax(y_test, axis=1)\n",
    "\n",
    "# 2. Classification report\n",
    "print(\"Classification Report:\")\n",
    "print(classification_report(y_true, y_pred, digits=3))\n",
    "\n",
    "# 3. Confusion matrix\n",
    "cm = confusion_matrix(y_true, y_pred)\n",
    "\n",
    "# 4. Plot confusion matrix\n",
    "plt.figure(figsize=(6, 5))\n",
    "sns.heatmap(cm, annot=True, fmt=\"d\", cmap=\"Blues\",\n",
    "            xticklabels=[1, 2, 3, 4, 5],\n",
    "            yticklabels=[1, 2, 3, 4, 5])\n",
    "plt.xlabel(\"Predicted\")\n",
    "plt.ylabel(\"True\")\n",
    "plt.title(\"Confusion Matrix\")\n",
    "plt.tight_layout()\n",
    "plt.show()\n"
   ]
  },
  {
   "cell_type": "markdown",
   "id": "e85c5f90",
   "metadata": {},
   "source": [
    "## Interpretation"
   ]
  },
  {
   "cell_type": "markdown",
   "id": "5068c194",
   "metadata": {},
   "source": [
    "✅ Classes 1 (Very Negative) and 5 (Very Positive) are predicted well:\n",
    "- Class 1: 15,998 correct out of 20,216 → High recall (0.79)\n",
    "- Class 5: 18,403 correct out of 22,236 → Very high recall (0.83)\n",
    "\n",
    "⚠️ Classes 2, 3, and 4 are weaker:\n",
    "- Class 2: Only 149 correctly predicted out of 7,135 → Recall = 0.021\n",
    "- Class 3 & 4: Often misclassified as 1 or 5\n",
    "\n",
    "📈 Overall Accuracy = 52.5% with a strong ability to classify emotionally extreme ratings.\n",
    "Moderate satisfaction levels are harder to detect — a known issue in NLP due to overlapping language and class imbalance.\n",
    "\n",
    "🧠 Conclusion:\n",
    "The model excels at identifying clear sentiment (low/high satisfaction), but struggles with middle-range scores.\n",
    "This behavior is common in real-world review data and acceptable for a lightweight, efficient model."
   ]
  },
  {
   "cell_type": "markdown",
   "id": "f8a3b840",
   "metadata": {},
   "source": [
    "# Classification Report "
   ]
  },
  {
   "cell_type": "code",
   "execution_count": null,
   "id": "7a50c796",
   "metadata": {},
   "outputs": [
    {
     "name": "stdout",
     "output_type": "stream",
     "text": [
      "\u001b[1m2268/2268\u001b[0m \u001b[32m━━━━━━━━━━━━━━━━━━━━\u001b[0m\u001b[37m\u001b[0m \u001b[1m22s\u001b[0m 10ms/step\n",
      "Classification Report:\n",
      "\n",
      "              precision    recall  f1-score   support\n",
      "\n",
      "           1      0.603     0.791     0.685     20216\n",
      "           2      0.527     0.021     0.040      7135\n",
      "           3      0.310     0.206     0.248     10370\n",
      "           4      0.381     0.110     0.170     12595\n",
      "           5      0.523     0.828     0.641     22236\n",
      "\n",
      "    accuracy                          0.525     72552\n",
      "   macro avg      0.469     0.391     0.357     72552\n",
      "weighted avg      0.490     0.525     0.456     72552\n",
      "\n"
     ]
    }
   ],
   "source": [
    "from sklearn.metrics import classification_report\n",
    "import numpy as np\n",
    "\n",
    "# Predict class labels from test set\n",
    "y_pred_probs = model.predict(X_test)\n",
    "y_pred = np.argmax(y_pred_probs, axis=1)\n",
    "y_true = np.argmax(y_test, axis=1)\n",
    "\n",
    "# Generate classification report\n",
    "report = classification_report(y_true, y_pred, digits=3, target_names=[\"1\", \"2\", \"3\", \"4\", \"5\"])\n",
    "print(\"Classification Report:\\n\")\n",
    "print(report)\n"
   ]
  },
  {
   "cell_type": "markdown",
   "id": "913516d5",
   "metadata": {},
   "source": [
    "## Interpretation"
   ]
  },
  {
   "cell_type": "markdown",
   "id": "e947e9b5",
   "metadata": {},
   "source": [
    "🔍 Precision: Correct predictions out of all predicted for a class\n",
    "🔍 Recall: Correct predictions out of all actual instances of that class\n",
    "🔍 F1-score: Balance between precision and recall\n",
    "📌 Support: Number of samples per class\n",
    "\n",
    "✅ Strong performance on:\n",
    "- Class 1 (Very Negative): High precision (0.60) and recall (0.79)\n",
    "- Class 5 (Very Positive): Strong recall (0.83)\n",
    "\n",
    "⚠️ Weak performance on:\n",
    " - Class 2 (Slightly Negative): Recall = 0.021 (rarely predicted)\n",
    "- Classes 3–4 (Neutral–Slightly Positive): Low precision/recall, often confused with 1 or 5\n",
    "\n",
    "🧠 Insight:\n",
    "The model distinguishes strong opinions well but struggles with moderate ratings, which is common in NLP with imbalanced data.\n",
    "\n",
    "🎯 Overall:\n",
    "Accuracy: 52.5%, Macro F1: 0.36, Weighted F1: 0.46\n",
    "Solid result for a lightweight model without class balancing."
   ]
  },
  {
   "cell_type": "markdown",
   "id": "e0c3178d",
   "metadata": {},
   "source": [
    "# Live Review Prediction Function"
   ]
  },
  {
   "cell_type": "code",
   "execution_count": null,
   "id": "85b2a4e1",
   "metadata": {},
   "outputs": [],
   "source": [
    "# Function to preprocess + vectorize + predict from raw review\n",
    "def predict_satisfaction(review_text):\n",
    "    # Preprocess\n",
    "    review = review_text.lower()\n",
    "    review = re.sub(r'[^a-z\\s]', '', review)\n",
    "    tokens = nltk.word_tokenize(review)\n",
    "    tokens = [lemmatizer.lemmatize(t) for t in tokens if t not in stop_words and t.isalpha()]\n",
    "\n",
    "    # Vectorize\n",
    "    vectors = [w2v_model.wv[t] if t in w2v_model.wv else zero_vector for t in tokens[:max_length]]\n",
    "    padded = pad_sequences([vectors], maxlen=max_length, dtype='float32', padding='post', truncating='post')\n",
    "\n",
    "    # Predict\n",
    "    pred = model.predict(padded)\n",
    "    predicted_class = np.argmax(pred) + 1  # back to 1–5 scale\n",
    "    confidence = np.max(pred)\n",
    "\n",
    "    print(f\"🔎 Review: {review_text}\")\n",
    "    print(f\"🎯 Predicted Satisfaction: {predicted_class} (Confidence: {confidence:.2f})\")\n"
   ]
  },
  {
   "cell_type": "code",
   "execution_count": null,
   "id": "7ba66293",
   "metadata": {},
   "outputs": [
    {
     "name": "stdout",
     "output_type": "stream",
     "text": [
      "\u001b[1m1/1\u001b[0m \u001b[32m━━━━━━━━━━━━━━━━━━━━\u001b[0m\u001b[37m\u001b[0m \u001b[1m0s\u001b[0m 47ms/step\n",
      "🔎 Review: This medication worked well for my anxiety but gave me headaches.\n",
      "🎯 Predicted Satisfaction: 5 (Confidence: 0.56)\n",
      "\u001b[1m1/1\u001b[0m \u001b[32m━━━━━━━━━━━━━━━━━━━━\u001b[0m\u001b[37m\u001b[0m \u001b[1m0s\u001b[0m 47ms/step\n",
      "🔎 Review: I felt terrible after using it. Would not recommend.\n",
      "🎯 Predicted Satisfaction: 1 (Confidence: 0.83)\n",
      "\u001b[1m1/1\u001b[0m \u001b[32m━━━━━━━━━━━━━━━━━━━━\u001b[0m\u001b[37m\u001b[0m \u001b[1m0s\u001b[0m 46ms/step\n",
      "🔎 Review: It was okay, not much change. No side effects either.\n",
      "🎯 Predicted Satisfaction: 1 (Confidence: 0.36)\n"
     ]
    }
   ],
   "source": [
    "predict_satisfaction(\"This medication worked well for my anxiety but gave me headaches.\")\n",
    "predict_satisfaction(\"I felt terrible after using it. Would not recommend.\")\n",
    "predict_satisfaction(\"It was okay, not much change. No side effects either.\")"
   ]
  },
  {
   "cell_type": "markdown",
   "id": "a74338ad",
   "metadata": {},
   "source": [
    "# Save your model and export key results"
   ]
  },
  {
   "cell_type": "markdown",
   "id": "bafbd22c",
   "metadata": {},
   "source": [
    "## Save the LSTM Model (Keras .h5 format)"
   ]
  },
  {
   "cell_type": "code",
   "execution_count": null,
   "id": "cecc5dc0",
   "metadata": {},
   "outputs": [
    {
     "name": "stderr",
     "output_type": "stream",
     "text": [
      "WARNING:absl:You are saving your model as an HDF5 file via `model.save()` or `keras.saving.save_model(model)`. This file format is considered legacy. We recommend using instead the native Keras format, e.g. `model.save('my_model.keras')` or `keras.saving.save_model(model, 'my_model.keras')`. \n"
     ]
    }
   ],
   "source": [
    "# Save model to file\n",
    "model.save(\"lstm_satisfaction_model.h5\")"
   ]
  },
  {
   "cell_type": "markdown",
   "id": "248a085f",
   "metadata": {},
   "source": [
    "## Save Word2Vec Embeddings"
   ]
  },
  {
   "cell_type": "code",
   "execution_count": null,
   "id": "66118fc3",
   "metadata": {},
   "outputs": [],
   "source": [
    "# Save Word2Vec model to disk\n",
    "w2v_model.save(\"word2vec_reviews.model\")"
   ]
  },
  {
   "cell_type": "markdown",
   "id": "79f1f390",
   "metadata": {},
   "source": [
    "## Export Predictions on Test Set to CSV"
   ]
  },
  {
   "cell_type": "code",
   "execution_count": null,
   "id": "3e5d3f6b",
   "metadata": {},
   "outputs": [
    {
     "name": "stdout",
     "output_type": "stream",
     "text": [
      "\u001b[1m2268/2268\u001b[0m \u001b[32m━━━━━━━━━━━━━━━━━━━━\u001b[0m\u001b[37m\u001b[0m \u001b[1m22s\u001b[0m 10ms/step\n"
     ]
    }
   ],
   "source": [
    "import pandas as pd\n",
    "\n",
    "# Get predictions on test set\n",
    "y_pred_probs = model.predict(X_test)\n",
    "y_pred = np.argmax(y_pred_probs, axis=1)\n",
    "y_true = np.argmax(y_test, axis=1)\n",
    "\n",
    "# Export to CSV\n",
    "predictions_df = pd.DataFrame({\n",
    "    'true_label': y_true + 1,  # back to [1–5]\n",
    "    'predicted_label': y_pred + 1,\n",
    "    'confidence': np.max(y_pred_probs, axis=1)\n",
    "})\n",
    "\n",
    "predictions_df.to_csv(\"lstm_predictions.csv\", index=False)\n"
   ]
  }
 ],
 "metadata": {
  "kernelspec": {
   "display_name": "drug-analysis-review",
   "language": "python",
   "name": "python3"
  },
  "language_info": {
   "codemirror_mode": {
    "name": "ipython",
    "version": 3
   },
   "file_extension": ".py",
   "mimetype": "text/x-python",
   "name": "python",
   "nbconvert_exporter": "python",
   "pygments_lexer": "ipython3",
   "version": "3.10.6"
  }
 },
 "nbformat": 4,
 "nbformat_minor": 5
}
