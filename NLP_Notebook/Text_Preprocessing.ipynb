{
 "cells": [
  {
   "cell_type": "markdown",
   "id": "f2add3d7",
   "metadata": {},
   "source": [
    "Text Preprocessing"
   ]
  },
  {
   "cell_type": "markdown",
   "id": "fe31160f",
   "metadata": {},
   "source": [
    "I will work in text preprocessing here."
   ]
  }
 ],
 "metadata": {
  "language_info": {
   "name": "python"
  }
 },
 "nbformat": 4,
 "nbformat_minor": 5
}
